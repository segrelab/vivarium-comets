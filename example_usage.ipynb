{
 "cells": [
  {
   "cell_type": "markdown",
   "metadata": {},
   "source": [
    "# Example Usage of Vivarium-comets"
   ]
  },
  {
   "cell_type": "markdown",
   "metadata": {},
   "source": [
    "Import all the needed libraries"
   ]
  },
  {
   "cell_type": "code",
   "execution_count": 1,
   "metadata": {},
   "outputs": [],
   "source": [
    "import cobra\n",
    "import cometspy as c\n",
    "import matplotlib.pyplot as plt\n",
    "\n",
    "from vivarium.core.engine import Engine"
   ]
  },
  {
   "cell_type": "markdown",
   "metadata": {},
   "source": [
    "Import the vivarium-comets package. Eventually this would be replaced by pip installing vivarium-comets and importing it."
   ]
  },
  {
   "cell_type": "code",
   "execution_count": 2,
   "metadata": {},
   "outputs": [],
   "source": [
    "from vivarium_comets.processes import comets"
   ]
  },
  {
   "cell_type": "markdown",
   "metadata": {},
   "source": [
    "## Ex 1: _E. coli_ core model in 1x1 grid"
   ]
  },
  {
   "cell_type": "markdown",
   "metadata": {},
   "source": [
    "Load the COBRA textbook model and convert it to a COMETS model"
   ]
  },
  {
   "cell_type": "code",
   "execution_count": 3,
   "metadata": {},
   "outputs": [
    {
     "name": "stdout",
     "output_type": "stream",
     "text": [
      "Scaling...\n",
      " A: min|aij| =  1.000e+00  max|aij| =  1.000e+00  ratio =  1.000e+00\n",
      "Problem data seem to be well scaled\n"
     ]
    }
   ],
   "source": [
    "e_coli_cobra = cobra.io.load_model('textbook')\n",
    "e_coli = c.model(e_coli_cobra)"
   ]
  },
  {
   "cell_type": "markdown",
   "metadata": {},
   "source": [
    "Change the bounds for reactions that will be dynamically updated, because the default bounds (0 and 1000) can cause problems"
   ]
  },
  {
   "cell_type": "code",
   "execution_count": 4,
   "metadata": {},
   "outputs": [],
   "source": [
    "e_coli.change_bounds('EX_glc__D_e', -1000, 1000)\n",
    "e_coli.change_bounds('EX_ac_e', -1000, 1000)"
   ]
  },
  {
   "cell_type": "markdown",
   "metadata": {},
   "source": [
    "Set the settings, including the initial states, for the vivarium process"
   ]
  },
  {
   "cell_type": "code",
   "execution_count": 5,
   "metadata": {},
   "outputs": [],
   "source": [
    "comets_config = {'time_step': 1.0,\n",
    "                'dimensions': [1,1], # Doesn't actually do anything right now\n",
    "                'models': [e_coli],\n",
    "                'metabolite_ids': [met.id for met in e_coli_cobra.metabolites]}\n",
    "\n",
    "comets_sim_settings = {'experiment_id': 'foo'}\n",
    "\n",
    "comets_initial_state = {'Biomass': {'e_coli_core': 0.000005},\n",
    "                        'Metabolites': {'glc__D_e': 0.011,\n",
    "                                        'o2_e': 1000,\n",
    "                                        'nh4_e': 1000,\n",
    "                                        'pi_e': 1000,\n",
    "                                        'h2o_e': 1000,\n",
    "                                        'h_e': 1000}}"
   ]
  },
  {
   "cell_type": "markdown",
   "metadata": {},
   "source": [
    "Initialize the process"
   ]
  },
  {
   "cell_type": "code",
   "execution_count": 6,
   "metadata": {},
   "outputs": [],
   "source": [
    "comets_process = comets.Comets(comets_config)"
   ]
  },
  {
   "cell_type": "markdown",
   "metadata": {},
   "source": [
    "Make the experiment"
   ]
  },
  {
   "cell_type": "code",
   "execution_count": 7,
   "metadata": {},
   "outputs": [
    {
     "name": "stdout",
     "output_type": "stream",
     "text": [
      "\n",
      "Simulation ID: 96732f4c-49a1-11ed-b2fb-e21381af3f48\n",
      "Created: 10/11/2022 at 16:16:28\n"
     ]
    }
   ],
   "source": [
    "comets_exp = Engine(processes={'comets': comets_process},\n",
    "                    topology={\n",
    "                        'comets': {'Biomass': ('Biomass',),\n",
    "                                   'Metabolites': ('Metabolites',)}},\n",
    "                   initial_state = comets_initial_state)"
   ]
  },
  {
   "cell_type": "markdown",
   "metadata": {},
   "source": [
    "Run the experiment"
   ]
  },
  {
   "cell_type": "code",
   "execution_count": 8,
   "metadata": {},
   "outputs": [
    {
     "name": "stdout",
     "output_type": "stream",
     "text": [
      "building empty layout model\n",
      "models will need to be added with layout.add_model()\n",
      "Warning: The added metabolite (glc__D_e) is notable to be taken up by any of the current models\n",
      "Warning: The added metabolite (h2o_e) is notable to be taken up by any of the current models\n",
      "Warning: The added metabolite (h_e) is notable to be taken up by any of the current models\n",
      "Warning: The added metabolite (nh4_e) is notable to be taken up by any of the current models\n",
      "Warning: The added metabolite (o2_e) is notable to be taken up by any of the current models\n",
      "Warning: The added metabolite (pi_e) is notable to be taken up by any of the current models\n",
      "\n",
      "Running COMETS simulation ...\n"
     ]
    },
    {
     "name": "stderr",
     "output_type": "stream",
     "text": [
      "/Users/helenscott/opt/miniconda3/lib/python3.9/site-packages/cometspy/model.py:973: FutureWarning: the 'line_terminator'' keyword is deprecated, use 'lineterminator' instead.\n",
      "  smat.to_csv(f, mode='a', line_terminator = '\\n', header=False, index=False)\n",
      "/Users/helenscott/opt/miniconda3/lib/python3.9/site-packages/cometspy/model.py:979: FutureWarning: the 'line_terminator'' keyword is deprecated, use 'lineterminator' instead.\n",
      "  bnd.to_csv(f, mode='a', line_terminator = '\\n', header=False, index=False)\n",
      "/Users/helenscott/opt/miniconda3/lib/python3.9/site-packages/cometspy/model.py:987: FutureWarning: the 'line_terminator'' keyword is deprecated, use 'lineterminator' instead.\n",
      "  met_n.to_csv(f, mode='a', line_terminator = '\\n', header=False, index=False)\n",
      "/Users/helenscott/opt/miniconda3/lib/python3.9/site-packages/cometspy/model.py:991: FutureWarning: the 'line_terminator'' keyword is deprecated, use 'lineterminator' instead.\n",
      "  rxn_n.to_csv(f, mode='a', line_terminator = '\\n', header=False, index=False)\n"
     ]
    },
    {
     "name": "stdout",
     "output_type": "stream",
     "text": [
      "Done!\n",
      "{'e_coli_core': 1.0553374271e-05}\n",
      "   metabolite  cycle  x  y    conc_mmol\n",
      "0    glc__D_e      0  1  1     0.011000\n",
      "1       h2o_e      0  1  1  1000.000000\n",
      "2         h_e      0  1  1  1000.000000\n",
      "3       nh4_e      0  1  1  1000.000000\n",
      "4        o2_e      0  1  1  1000.000000\n",
      "5        pi_e      0  1  1  1000.000000\n",
      "6        ac_e      1  1  1     0.000100\n",
      "7       co2_e      1  1  1     0.000081\n",
      "8       for_e      1  1  1     0.000037\n",
      "9    glc__D_e      1  1  1     0.010908\n",
      "10      h2o_e      1  1  1  1000.000121\n",
      "11        h_e      1  1  1  1000.000248\n",
      "12      nh4_e      1  1  1   999.999970\n",
      "13       o2_e      1  1  1   999.999907\n",
      "14       pi_e      1  1  1   999.999980\n",
      "{'ac_e': 0.00010034511196, 'co2_e': 8.0613139471e-05, 'for_e': 3.6614230271e-05, 'glc__D_e': 0.010907625965, 'h2o_e': 1000.0001211, 'h_e': 1000.0002484, 'nh4_e': 999.99996972, 'o2_e': 999.9999075, 'pi_e': 999.99997957}\n",
      "building empty layout model\n",
      "models will need to be added with layout.add_model()\n",
      "Warning: The added metabolite (ac_e) is notable to be taken up by any of the current models\n",
      "Warning: The added metabolite (co2_e) is notable to be taken up by any of the current models\n",
      "Warning: The added metabolite (for_e) is notable to be taken up by any of the current models\n",
      "Warning: The added metabolite (glc__D_e) is notable to be taken up by any of the current models\n",
      "Warning: The added metabolite (h2o_e) is notable to be taken up by any of the current models\n",
      "Warning: The added metabolite (h_e) is notable to be taken up by any of the current models\n",
      "Warning: The added metabolite (nh4_e) is notable to be taken up by any of the current models\n",
      "Warning: The added metabolite (o2_e) is notable to be taken up by any of the current models\n",
      "Warning: The added metabolite (pi_e) is notable to be taken up by any of the current models\n",
      "\n",
      "Running COMETS simulation ...\n"
     ]
    },
    {
     "name": "stderr",
     "output_type": "stream",
     "text": [
      "/Users/helenscott/opt/miniconda3/lib/python3.9/site-packages/cometspy/model.py:973: FutureWarning: the 'line_terminator'' keyword is deprecated, use 'lineterminator' instead.\n",
      "  smat.to_csv(f, mode='a', line_terminator = '\\n', header=False, index=False)\n",
      "/Users/helenscott/opt/miniconda3/lib/python3.9/site-packages/cometspy/model.py:979: FutureWarning: the 'line_terminator'' keyword is deprecated, use 'lineterminator' instead.\n",
      "  bnd.to_csv(f, mode='a', line_terminator = '\\n', header=False, index=False)\n",
      "/Users/helenscott/opt/miniconda3/lib/python3.9/site-packages/cometspy/model.py:987: FutureWarning: the 'line_terminator'' keyword is deprecated, use 'lineterminator' instead.\n",
      "  met_n.to_csv(f, mode='a', line_terminator = '\\n', header=False, index=False)\n",
      "/Users/helenscott/opt/miniconda3/lib/python3.9/site-packages/cometspy/model.py:991: FutureWarning: the 'line_terminator'' keyword is deprecated, use 'lineterminator' instead.\n",
      "  rxn_n.to_csv(f, mode='a', line_terminator = '\\n', header=False, index=False)\n"
     ]
    },
    {
     "name": "stdout",
     "output_type": "stream",
     "text": [
      "Done!\n",
      "{'e_coli_core': 2.2274668631e-05}\n",
      "   metabolite  cycle  x  y    conc_mmol\n",
      "0        ac_e      0  1  1     0.000100\n",
      "1       co2_e      0  1  1     0.000081\n",
      "2       for_e      0  1  1     0.000037\n",
      "3    glc__D_e      0  1  1     0.010908\n",
      "4       h2o_e      0  1  1  1000.000121\n",
      "5         h_e      0  1  1  1000.000248\n",
      "6       nh4_e      0  1  1   999.999970\n",
      "7        o2_e      0  1  1   999.999907\n",
      "8        pi_e      0  1  1   999.999980\n",
      "9        ac_e      1  1  1     0.000312\n",
      "10      co2_e      1  1  1     0.000251\n",
      "11      for_e      1  1  1     0.000114\n",
      "12   glc__D_e      1  1  1     0.010713\n",
      "13      h2o_e      1  1  1  1000.000377\n",
      "14        h_e      1  1  1  1000.000773\n",
      "15      nh4_e      1  1  1   999.999906\n",
      "16       o2_e      1  1  1   999.999712\n",
      "17       pi_e      1  1  1   999.999936\n",
      "{'ac_e': 0.00031213763005, 'co2_e': 0.00025076470551, 'for_e': 0.00011388791717, 'glc__D_e': 0.01071265666, 'h2o_e': 1000.0003766, 'h_e': 1000.0007726, 'nh4_e': 999.99990581, 'o2_e': 999.99971226, 'pi_e': 999.99993645}\n",
      "building empty layout model\n",
      "models will need to be added with layout.add_model()\n",
      "Warning: The added metabolite (ac_e) is notable to be taken up by any of the current models\n",
      "Warning: The added metabolite (co2_e) is notable to be taken up by any of the current models\n",
      "Warning: The added metabolite (for_e) is notable to be taken up by any of the current models\n",
      "Warning: The added metabolite (glc__D_e) is notable to be taken up by any of the current models\n",
      "Warning: The added metabolite (h2o_e) is notable to be taken up by any of the current models\n",
      "Warning: The added metabolite (h_e) is notable to be taken up by any of the current models\n",
      "Warning: The added metabolite (nh4_e) is notable to be taken up by any of the current models\n",
      "Warning: The added metabolite (o2_e) is notable to be taken up by any of the current models\n",
      "Warning: The added metabolite (pi_e) is notable to be taken up by any of the current models\n",
      "\n",
      "Running COMETS simulation ...\n"
     ]
    },
    {
     "name": "stderr",
     "output_type": "stream",
     "text": [
      "/Users/helenscott/opt/miniconda3/lib/python3.9/site-packages/cometspy/model.py:973: FutureWarning: the 'line_terminator'' keyword is deprecated, use 'lineterminator' instead.\n",
      "  smat.to_csv(f, mode='a', line_terminator = '\\n', header=False, index=False)\n",
      "/Users/helenscott/opt/miniconda3/lib/python3.9/site-packages/cometspy/model.py:979: FutureWarning: the 'line_terminator'' keyword is deprecated, use 'lineterminator' instead.\n",
      "  bnd.to_csv(f, mode='a', line_terminator = '\\n', header=False, index=False)\n",
      "/Users/helenscott/opt/miniconda3/lib/python3.9/site-packages/cometspy/model.py:987: FutureWarning: the 'line_terminator'' keyword is deprecated, use 'lineterminator' instead.\n",
      "  met_n.to_csv(f, mode='a', line_terminator = '\\n', header=False, index=False)\n",
      "/Users/helenscott/opt/miniconda3/lib/python3.9/site-packages/cometspy/model.py:991: FutureWarning: the 'line_terminator'' keyword is deprecated, use 'lineterminator' instead.\n",
      "  rxn_n.to_csv(f, mode='a', line_terminator = '\\n', header=False, index=False)\n"
     ]
    },
    {
     "name": "stdout",
     "output_type": "stream",
     "text": [
      "Done!\n",
      "{'e_coli_core': 4.7014094509e-05}\n",
      "   metabolite  cycle  x  y    conc_mmol\n",
      "0        ac_e      0  1  1     0.000312\n",
      "1       co2_e      0  1  1     0.000251\n",
      "2       for_e      0  1  1     0.000114\n",
      "3    glc__D_e      0  1  1     0.010713\n",
      "4       h2o_e      0  1  1  1000.000377\n",
      "5         h_e      0  1  1  1000.000773\n",
      "6       nh4_e      0  1  1   999.999906\n",
      "7        o2_e      0  1  1   999.999712\n",
      "8        pi_e      0  1  1   999.999936\n",
      "9        ac_e      1  1  1     0.000759\n",
      "10      co2_e      1  1  1     0.000610\n",
      "11      for_e      1  1  1     0.000277\n",
      "12   glc__D_e      1  1  1     0.010301\n",
      "13      h2o_e      1  1  1  1000.000916\n",
      "14        h_e      1  1  1  1000.001879\n",
      "15      nh4_e      1  1  1   999.999771\n",
      "16       o2_e      1  1  1   999.999300\n",
      "17       pi_e      1  1  1   999.999845\n",
      "{'ac_e': 0.00075914581549, 'co2_e': 0.0006099138929, 'for_e': 0.00027695476989, 'glc__D_e': 0.010301151485, 'h2o_e': 1000.000916, 'h_e': 1000.0018789, 'nh4_e': 999.99977091, 'o2_e': 999.99930018, 'pi_e': 999.99984544}\n",
      "building empty layout model\n",
      "models will need to be added with layout.add_model()\n",
      "Warning: The added metabolite (ac_e) is notable to be taken up by any of the current models\n",
      "Warning: The added metabolite (co2_e) is notable to be taken up by any of the current models\n",
      "Warning: The added metabolite (for_e) is notable to be taken up by any of the current models\n",
      "Warning: The added metabolite (glc__D_e) is notable to be taken up by any of the current models\n",
      "Warning: The added metabolite (h2o_e) is notable to be taken up by any of the current models\n",
      "Warning: The added metabolite (h_e) is notable to be taken up by any of the current models\n",
      "Warning: The added metabolite (nh4_e) is notable to be taken up by any of the current models\n",
      "Warning: The added metabolite (o2_e) is notable to be taken up by any of the current models\n",
      "Warning: The added metabolite (pi_e) is notable to be taken up by any of the current models\n",
      "\n",
      "Running COMETS simulation ...\n"
     ]
    },
    {
     "name": "stderr",
     "output_type": "stream",
     "text": [
      "/Users/helenscott/opt/miniconda3/lib/python3.9/site-packages/cometspy/model.py:973: FutureWarning: the 'line_terminator'' keyword is deprecated, use 'lineterminator' instead.\n",
      "  smat.to_csv(f, mode='a', line_terminator = '\\n', header=False, index=False)\n",
      "/Users/helenscott/opt/miniconda3/lib/python3.9/site-packages/cometspy/model.py:979: FutureWarning: the 'line_terminator'' keyword is deprecated, use 'lineterminator' instead.\n",
      "  bnd.to_csv(f, mode='a', line_terminator = '\\n', header=False, index=False)\n",
      "/Users/helenscott/opt/miniconda3/lib/python3.9/site-packages/cometspy/model.py:987: FutureWarning: the 'line_terminator'' keyword is deprecated, use 'lineterminator' instead.\n",
      "  met_n.to_csv(f, mode='a', line_terminator = '\\n', header=False, index=False)\n",
      "/Users/helenscott/opt/miniconda3/lib/python3.9/site-packages/cometspy/model.py:991: FutureWarning: the 'line_terminator'' keyword is deprecated, use 'lineterminator' instead.\n",
      "  rxn_n.to_csv(f, mode='a', line_terminator = '\\n', header=False, index=False)\n"
     ]
    },
    {
     "name": "stdout",
     "output_type": "stream",
     "text": [
      "Done!\n",
      "{'e_coli_core': 9.9228859654e-05}\n",
      "   metabolite  cycle  x  y    conc_mmol\n",
      "0        ac_e      0  1  1     0.000759\n",
      "1       co2_e      0  1  1     0.000610\n",
      "2       for_e      0  1  1     0.000277\n",
      "3    glc__D_e      0  1  1     0.010301\n",
      "4       h2o_e      0  1  1  1000.000916\n",
      "5         h_e      0  1  1  1000.001879\n",
      "6       nh4_e      0  1  1   999.999771\n",
      "7        o2_e      0  1  1   999.999300\n",
      "8        pi_e      0  1  1   999.999845\n",
      "9        ac_e      1  1  1     0.001703\n",
      "10      co2_e      1  1  1     0.001368\n",
      "11      for_e      1  1  1     0.000621\n",
      "12   glc__D_e      1  1  1     0.009433\n",
      "13      h2o_e      1  1  1  1000.002054\n",
      "14        h_e      1  1  1  1000.004214\n",
      "15      nh4_e      1  1  1   999.999486\n",
      "16       o2_e      1  1  1   999.998430\n",
      "17       pi_e      1  1  1   999.999653\n",
      "{'ac_e': 0.0017025518868, 'co2_e': 0.0013680273863, 'for_e': 0.00062098023383, 'glc__D_e': 0.0094326553953, 'h2o_e': 1000.0020545, 'h_e': 1000.0042138, 'nh4_e': 999.99948619, 'o2_e': 999.99843042, 'pi_e': 999.99965336}\n",
      "building empty layout model\n",
      "models will need to be added with layout.add_model()\n",
      "Warning: The added metabolite (ac_e) is notable to be taken up by any of the current models\n",
      "Warning: The added metabolite (co2_e) is notable to be taken up by any of the current models\n",
      "Warning: The added metabolite (for_e) is notable to be taken up by any of the current models\n",
      "Warning: The added metabolite (glc__D_e) is notable to be taken up by any of the current models\n",
      "Warning: The added metabolite (h2o_e) is notable to be taken up by any of the current models\n",
      "Warning: The added metabolite (h_e) is notable to be taken up by any of the current models\n",
      "Warning: The added metabolite (nh4_e) is notable to be taken up by any of the current models\n",
      "Warning: The added metabolite (o2_e) is notable to be taken up by any of the current models\n",
      "Warning: The added metabolite (pi_e) is notable to be taken up by any of the current models\n",
      "\n",
      "Running COMETS simulation ...\n"
     ]
    },
    {
     "name": "stderr",
     "output_type": "stream",
     "text": [
      "/Users/helenscott/opt/miniconda3/lib/python3.9/site-packages/cometspy/model.py:973: FutureWarning: the 'line_terminator'' keyword is deprecated, use 'lineterminator' instead.\n",
      "  smat.to_csv(f, mode='a', line_terminator = '\\n', header=False, index=False)\n",
      "/Users/helenscott/opt/miniconda3/lib/python3.9/site-packages/cometspy/model.py:979: FutureWarning: the 'line_terminator'' keyword is deprecated, use 'lineterminator' instead.\n",
      "  bnd.to_csv(f, mode='a', line_terminator = '\\n', header=False, index=False)\n",
      "/Users/helenscott/opt/miniconda3/lib/python3.9/site-packages/cometspy/model.py:987: FutureWarning: the 'line_terminator'' keyword is deprecated, use 'lineterminator' instead.\n",
      "  met_n.to_csv(f, mode='a', line_terminator = '\\n', header=False, index=False)\n",
      "/Users/helenscott/opt/miniconda3/lib/python3.9/site-packages/cometspy/model.py:991: FutureWarning: the 'line_terminator'' keyword is deprecated, use 'lineterminator' instead.\n",
      "  rxn_n.to_csv(f, mode='a', line_terminator = '\\n', header=False, index=False)\n"
     ]
    },
    {
     "name": "stdout",
     "output_type": "stream",
     "text": [
      "Done!\n",
      "{'e_coli_core': 0.00020942638181}\n",
      "   metabolite  cycle  x  y    conc_mmol\n",
      "0        ac_e      0  1  1     0.001703\n",
      "1       co2_e      0  1  1     0.001368\n",
      "2       for_e      0  1  1     0.000621\n",
      "3    glc__D_e      0  1  1     0.009433\n",
      "4       h2o_e      0  1  1  1000.002054\n",
      "5         h_e      0  1  1  1000.004214\n",
      "6       nh4_e      0  1  1   999.999486\n",
      "7        o2_e      0  1  1   999.998430\n",
      "8        pi_e      0  1  1   999.999653\n",
      "9        ac_e      1  1  1     0.003693\n",
      "10      co2_e      1  1  1     0.002968\n",
      "11      for_e      1  1  1     0.001346\n",
      "12   glc__D_e      1  1  1     0.007600\n",
      "13      h2o_e      1  1  1  1000.004458\n",
      "14        h_e      1  1  1  1000.009140\n",
      "15      nh4_e      1  1  1   999.998885\n",
      "16       o2_e      1  1  1   999.996595\n",
      "17       pi_e      1  1  1   999.999248\n",
      "{'ac_e': 0.0036933534806, 'co2_e': 0.002968491788, 'for_e': 0.0013463178933, 'glc__D_e': 0.0075998360782, 'h2o_e': 1000.0044577, 'h_e': 1000.0091405, 'nh4_e': 999.9988853, 'o2_e': 999.99659469, 'pi_e': 999.99924798}\n",
      "building empty layout model\n",
      "models will need to be added with layout.add_model()\n",
      "Warning: The added metabolite (ac_e) is notable to be taken up by any of the current models\n",
      "Warning: The added metabolite (co2_e) is notable to be taken up by any of the current models\n",
      "Warning: The added metabolite (for_e) is notable to be taken up by any of the current models\n",
      "Warning: The added metabolite (glc__D_e) is notable to be taken up by any of the current models\n",
      "Warning: The added metabolite (h2o_e) is notable to be taken up by any of the current models\n",
      "Warning: The added metabolite (h_e) is notable to be taken up by any of the current models\n",
      "Warning: The added metabolite (nh4_e) is notable to be taken up by any of the current models\n",
      "Warning: The added metabolite (o2_e) is notable to be taken up by any of the current models\n",
      "Warning: The added metabolite (pi_e) is notable to be taken up by any of the current models\n",
      "\n",
      "Running COMETS simulation ...\n"
     ]
    },
    {
     "name": "stderr",
     "output_type": "stream",
     "text": [
      "/Users/helenscott/opt/miniconda3/lib/python3.9/site-packages/cometspy/model.py:973: FutureWarning: the 'line_terminator'' keyword is deprecated, use 'lineterminator' instead.\n",
      "  smat.to_csv(f, mode='a', line_terminator = '\\n', header=False, index=False)\n",
      "/Users/helenscott/opt/miniconda3/lib/python3.9/site-packages/cometspy/model.py:979: FutureWarning: the 'line_terminator'' keyword is deprecated, use 'lineterminator' instead.\n",
      "  bnd.to_csv(f, mode='a', line_terminator = '\\n', header=False, index=False)\n",
      "/Users/helenscott/opt/miniconda3/lib/python3.9/site-packages/cometspy/model.py:987: FutureWarning: the 'line_terminator'' keyword is deprecated, use 'lineterminator' instead.\n",
      "  met_n.to_csv(f, mode='a', line_terminator = '\\n', header=False, index=False)\n",
      "/Users/helenscott/opt/miniconda3/lib/python3.9/site-packages/cometspy/model.py:991: FutureWarning: the 'line_terminator'' keyword is deprecated, use 'lineterminator' instead.\n",
      "  rxn_n.to_csv(f, mode='a', line_terminator = '\\n', header=False, index=False)\n"
     ]
    },
    {
     "name": "stdout",
     "output_type": "stream",
     "text": [
      "Done!\n",
      "{'e_coli_core': 0.00044195444039}\n",
      "   metabolite  cycle  x  y    conc_mmol\n",
      "0        ac_e      0  1  1     0.003693\n",
      "1       co2_e      0  1  1     0.002968\n",
      "2       for_e      0  1  1     0.001346\n",
      "3    glc__D_e      0  1  1     0.007600\n",
      "4       h2o_e      0  1  1  1000.004458\n",
      "5         h_e      0  1  1  1000.009140\n",
      "6       nh4_e      0  1  1   999.998885\n",
      "7        o2_e      0  1  1   999.996595\n",
      "8        pi_e      0  1  1   999.999248\n",
      "9        ac_e      1  1  1     0.007893\n",
      "10      co2_e      1  1  1     0.006349\n",
      "11      for_e      1  1  1     0.002873\n",
      "12   glc__D_e      1  1  1     0.003733\n",
      "13      h2o_e      1  1  1  1000.009532\n",
      "14        h_e      1  1  1  1000.019531\n",
      "15      nh4_e      1  1  1   999.997617\n",
      "16       o2_e      1  1  1   999.992720\n",
      "17       pi_e      1  1  1   999.998393\n",
      "{'ac_e': 0.0078927880689, 'co2_e': 0.0063485992894, 'for_e': 0.0028725302783, 'glc__D_e': 0.0037330799349, 'h2o_e': 1000.0095316, 'h_e': 1000.0195307, 'nh4_e': 999.99761737, 'o2_e': 999.9927203, 'pi_e': 999.99839258}\n",
      "building empty layout model\n",
      "models will need to be added with layout.add_model()\n",
      "Warning: The added metabolite (ac_e) is notable to be taken up by any of the current models\n",
      "Warning: The added metabolite (co2_e) is notable to be taken up by any of the current models\n",
      "Warning: The added metabolite (for_e) is notable to be taken up by any of the current models\n",
      "Warning: The added metabolite (glc__D_e) is notable to be taken up by any of the current models\n",
      "Warning: The added metabolite (h2o_e) is notable to be taken up by any of the current models\n",
      "Warning: The added metabolite (h_e) is notable to be taken up by any of the current models\n",
      "Warning: The added metabolite (nh4_e) is notable to be taken up by any of the current models\n",
      "Warning: The added metabolite (o2_e) is notable to be taken up by any of the current models\n",
      "Warning: The added metabolite (pi_e) is notable to be taken up by any of the current models\n",
      "\n",
      "Running COMETS simulation ...\n"
     ]
    },
    {
     "name": "stderr",
     "output_type": "stream",
     "text": [
      "/Users/helenscott/opt/miniconda3/lib/python3.9/site-packages/cometspy/model.py:973: FutureWarning: the 'line_terminator'' keyword is deprecated, use 'lineterminator' instead.\n",
      "  smat.to_csv(f, mode='a', line_terminator = '\\n', header=False, index=False)\n",
      "/Users/helenscott/opt/miniconda3/lib/python3.9/site-packages/cometspy/model.py:979: FutureWarning: the 'line_terminator'' keyword is deprecated, use 'lineterminator' instead.\n",
      "  bnd.to_csv(f, mode='a', line_terminator = '\\n', header=False, index=False)\n",
      "/Users/helenscott/opt/miniconda3/lib/python3.9/site-packages/cometspy/model.py:987: FutureWarning: the 'line_terminator'' keyword is deprecated, use 'lineterminator' instead.\n",
      "  met_n.to_csv(f, mode='a', line_terminator = '\\n', header=False, index=False)\n",
      "/Users/helenscott/opt/miniconda3/lib/python3.9/site-packages/cometspy/model.py:991: FutureWarning: the 'line_terminator'' keyword is deprecated, use 'lineterminator' instead.\n",
      "  rxn_n.to_csv(f, mode='a', line_terminator = '\\n', header=False, index=False)\n"
     ]
    },
    {
     "name": "stdout",
     "output_type": "stream",
     "text": [
      "Done!\n",
      "{'e_coli_core': 0.00076319797664}\n",
      "   metabolite  cycle  x  y    conc_mmol\n",
      "0        ac_e      0  1  1     0.007893\n",
      "1       co2_e      0  1  1     0.006349\n",
      "2       for_e      0  1  1     0.002873\n",
      "3    glc__D_e      0  1  1     0.003733\n",
      "4       h2o_e      0  1  1  1000.009532\n",
      "5         h_e      0  1  1  1000.019531\n",
      "6       nh4_e      0  1  1   999.997617\n",
      "7        o2_e      0  1  1   999.992720\n",
      "8        pi_e      0  1  1   999.998393\n",
      "9        ac_e      1  1  1     0.007983\n",
      "10      co2_e      1  1  1     0.014896\n",
      "11      for_e      1  1  1     0.002873\n",
      "12      h2o_e      1  1  1  1000.020419\n",
      "13        h_e      1  1  1  1000.026065\n",
      "14      nh4_e      1  1  1   999.995866\n",
      "15       o2_e      1  1  1   999.984544\n",
      "16       pi_e      1  1  1   999.997211\n",
      "{'ac_e': 0.0079829148817, 'co2_e': 0.014896145966, 'for_e': 0.0028725302783, 'h2o_e': 1000.0204192, 'h_e': 1000.026065, 'nh4_e': 999.99586569, 'o2_e': 999.98454414, 'pi_e': 999.99721082, 'glc__D_e': 0.0}\n",
      "building empty layout model\n",
      "models will need to be added with layout.add_model()\n",
      "Warning: The added metabolite (ac_e) is notable to be taken up by any of the current models\n",
      "Warning: The added metabolite (co2_e) is notable to be taken up by any of the current models\n",
      "Warning: The added metabolite (for_e) is notable to be taken up by any of the current models\n",
      "Warning: The added metabolite (h2o_e) is notable to be taken up by any of the current models\n",
      "Warning: The added metabolite (h_e) is notable to be taken up by any of the current models\n",
      "Warning: The added metabolite (nh4_e) is notable to be taken up by any of the current models\n",
      "Warning: The added metabolite (o2_e) is notable to be taken up by any of the current models\n",
      "Warning: The added metabolite (pi_e) is notable to be taken up by any of the current models\n",
      "\n",
      "Running COMETS simulation ...\n"
     ]
    },
    {
     "name": "stderr",
     "output_type": "stream",
     "text": [
      "/Users/helenscott/Documents/PhD/Segre-lab/vivarium-comets/vivarium_comets/processes/comets.py:155: FutureWarning: The frame.append method is deprecated and will be removed from pandas in a future version. Use pandas.concat instead.\n",
      "  most_recent_media = most_recent_media.append({'metabolite': met_id, 'conc_mmol': 0}, ignore_index=True) #TODO: Need to make space explicit\n",
      "/Users/helenscott/opt/miniconda3/lib/python3.9/site-packages/cometspy/model.py:973: FutureWarning: the 'line_terminator'' keyword is deprecated, use 'lineterminator' instead.\n",
      "  smat.to_csv(f, mode='a', line_terminator = '\\n', header=False, index=False)\n",
      "/Users/helenscott/opt/miniconda3/lib/python3.9/site-packages/cometspy/model.py:979: FutureWarning: the 'line_terminator'' keyword is deprecated, use 'lineterminator' instead.\n",
      "  bnd.to_csv(f, mode='a', line_terminator = '\\n', header=False, index=False)\n",
      "/Users/helenscott/opt/miniconda3/lib/python3.9/site-packages/cometspy/model.py:987: FutureWarning: the 'line_terminator'' keyword is deprecated, use 'lineterminator' instead.\n",
      "  met_n.to_csv(f, mode='a', line_terminator = '\\n', header=False, index=False)\n",
      "/Users/helenscott/opt/miniconda3/lib/python3.9/site-packages/cometspy/model.py:991: FutureWarning: the 'line_terminator'' keyword is deprecated, use 'lineterminator' instead.\n",
      "  rxn_n.to_csv(f, mode='a', line_terminator = '\\n', header=False, index=False)\n"
     ]
    },
    {
     "name": "stdout",
     "output_type": "stream",
     "text": [
      "Done!\n",
      "{'e_coli_core': 0.00090306893683}\n",
      "   metabolite  cycle  x  y    conc_mmol\n",
      "0        ac_e      0  1  1     0.007983\n",
      "1       co2_e      0  1  1     0.014896\n",
      "2       for_e      0  1  1     0.002873\n",
      "3       h2o_e      0  1  1  1000.020419\n",
      "4         h_e      0  1  1  1000.026065\n",
      "5       nh4_e      0  1  1   999.995866\n",
      "6        o2_e      0  1  1   999.984544\n",
      "7        pi_e      0  1  1   999.997211\n",
      "8       co2_e      1  1  1     0.024910\n",
      "9       for_e      1  1  1     0.002873\n",
      "10      h2o_e      1  1  1  1000.031452\n",
      "11        h_e      1  1  1  1000.020888\n",
      "12      nh4_e      1  1  1   999.995103\n",
      "13       o2_e      1  1  1   999.974692\n",
      "14       pi_e      1  1  1   999.996696\n",
      "{'co2_e': 0.024909697083, 'for_e': 0.0028725302783, 'h2o_e': 1000.0314516, 'h_e': 1000.0208879, 'nh4_e': 999.995103, 'o2_e': 999.97469229, 'pi_e': 999.99669628, 'ac_e': 0.0}\n",
      "building empty layout model\n",
      "models will need to be added with layout.add_model()\n",
      "Warning: The added metabolite (co2_e) is notable to be taken up by any of the current models\n",
      "Warning: The added metabolite (for_e) is notable to be taken up by any of the current models\n",
      "Warning: The added metabolite (h2o_e) is notable to be taken up by any of the current models\n",
      "Warning: The added metabolite (h_e) is notable to be taken up by any of the current models\n",
      "Warning: The added metabolite (nh4_e) is notable to be taken up by any of the current models\n",
      "Warning: The added metabolite (o2_e) is notable to be taken up by any of the current models\n",
      "Warning: The added metabolite (pi_e) is notable to be taken up by any of the current models\n",
      "\n",
      "Running COMETS simulation ...\n"
     ]
    },
    {
     "name": "stderr",
     "output_type": "stream",
     "text": [
      "/Users/helenscott/Documents/PhD/Segre-lab/vivarium-comets/vivarium_comets/processes/comets.py:155: FutureWarning: The frame.append method is deprecated and will be removed from pandas in a future version. Use pandas.concat instead.\n",
      "  most_recent_media = most_recent_media.append({'metabolite': met_id, 'conc_mmol': 0}, ignore_index=True) #TODO: Need to make space explicit\n",
      "/Users/helenscott/opt/miniconda3/lib/python3.9/site-packages/cometspy/model.py:973: FutureWarning: the 'line_terminator'' keyword is deprecated, use 'lineterminator' instead.\n",
      "  smat.to_csv(f, mode='a', line_terminator = '\\n', header=False, index=False)\n",
      "/Users/helenscott/opt/miniconda3/lib/python3.9/site-packages/cometspy/model.py:979: FutureWarning: the 'line_terminator'' keyword is deprecated, use 'lineterminator' instead.\n",
      "  bnd.to_csv(f, mode='a', line_terminator = '\\n', header=False, index=False)\n",
      "/Users/helenscott/opt/miniconda3/lib/python3.9/site-packages/cometspy/model.py:987: FutureWarning: the 'line_terminator'' keyword is deprecated, use 'lineterminator' instead.\n",
      "  met_n.to_csv(f, mode='a', line_terminator = '\\n', header=False, index=False)\n",
      "/Users/helenscott/opt/miniconda3/lib/python3.9/site-packages/cometspy/model.py:991: FutureWarning: the 'line_terminator'' keyword is deprecated, use 'lineterminator' instead.\n",
      "  rxn_n.to_csv(f, mode='a', line_terminator = '\\n', header=False, index=False)\n"
     ]
    },
    {
     "name": "stdout",
     "output_type": "stream",
     "text": [
      "Done!\n",
      "{'e_coli_core': 0.00090306893683}\n",
      "   metabolite  cycle  x  y    conc_mmol\n",
      "0       co2_e      0  1  1     0.024910\n",
      "1       for_e      0  1  1     0.002873\n",
      "2       h2o_e      0  1  1  1000.031452\n",
      "3         h_e      0  1  1  1000.020888\n",
      "4       nh4_e      0  1  1   999.995103\n",
      "5        o2_e      0  1  1   999.974692\n",
      "6        pi_e      0  1  1   999.996696\n",
      "7       co2_e      1  1  1     0.024910\n",
      "8       for_e      1  1  1     0.002873\n",
      "9       h2o_e      1  1  1  1000.031452\n",
      "10        h_e      1  1  1  1000.020888\n",
      "11      nh4_e      1  1  1   999.995103\n",
      "12       o2_e      1  1  1   999.974692\n",
      "13       pi_e      1  1  1   999.996696\n",
      "{'co2_e': 0.024909697083, 'for_e': 0.0028725302783, 'h2o_e': 1000.0314516, 'h_e': 1000.0208879, 'nh4_e': 999.995103, 'o2_e': 999.97469229, 'pi_e': 999.99669628}\n",
      "building empty layout model\n",
      "models will need to be added with layout.add_model()\n",
      "Warning: The added metabolite (co2_e) is notable to be taken up by any of the current models\n",
      "Warning: The added metabolite (for_e) is notable to be taken up by any of the current models\n",
      "Warning: The added metabolite (h2o_e) is notable to be taken up by any of the current models\n",
      "Warning: The added metabolite (h_e) is notable to be taken up by any of the current models\n",
      "Warning: The added metabolite (nh4_e) is notable to be taken up by any of the current models\n",
      "Warning: The added metabolite (o2_e) is notable to be taken up by any of the current models\n",
      "Warning: The added metabolite (pi_e) is notable to be taken up by any of the current models\n",
      "\n",
      "Running COMETS simulation ...\n"
     ]
    },
    {
     "name": "stderr",
     "output_type": "stream",
     "text": [
      "/Users/helenscott/opt/miniconda3/lib/python3.9/site-packages/cometspy/model.py:973: FutureWarning: the 'line_terminator'' keyword is deprecated, use 'lineterminator' instead.\n",
      "  smat.to_csv(f, mode='a', line_terminator = '\\n', header=False, index=False)\n",
      "/Users/helenscott/opt/miniconda3/lib/python3.9/site-packages/cometspy/model.py:979: FutureWarning: the 'line_terminator'' keyword is deprecated, use 'lineterminator' instead.\n",
      "  bnd.to_csv(f, mode='a', line_terminator = '\\n', header=False, index=False)\n",
      "/Users/helenscott/opt/miniconda3/lib/python3.9/site-packages/cometspy/model.py:987: FutureWarning: the 'line_terminator'' keyword is deprecated, use 'lineterminator' instead.\n",
      "  met_n.to_csv(f, mode='a', line_terminator = '\\n', header=False, index=False)\n",
      "/Users/helenscott/opt/miniconda3/lib/python3.9/site-packages/cometspy/model.py:991: FutureWarning: the 'line_terminator'' keyword is deprecated, use 'lineterminator' instead.\n",
      "  rxn_n.to_csv(f, mode='a', line_terminator = '\\n', header=False, index=False)\n"
     ]
    },
    {
     "name": "stdout",
     "output_type": "stream",
     "text": [
      "Done!\n",
      "{'e_coli_core': 0.00090306893683}\n",
      "   metabolite  cycle  x  y    conc_mmol\n",
      "0       co2_e      0  1  1     0.024910\n",
      "1       for_e      0  1  1     0.002873\n",
      "2       h2o_e      0  1  1  1000.031452\n",
      "3         h_e      0  1  1  1000.020888\n",
      "4       nh4_e      0  1  1   999.995103\n",
      "5        o2_e      0  1  1   999.974692\n",
      "6        pi_e      0  1  1   999.996696\n",
      "7       co2_e      1  1  1     0.024910\n",
      "8       for_e      1  1  1     0.002873\n",
      "9       h2o_e      1  1  1  1000.031452\n",
      "10        h_e      1  1  1  1000.020888\n",
      "11      nh4_e      1  1  1   999.995103\n",
      "12       o2_e      1  1  1   999.974692\n",
      "13       pi_e      1  1  1   999.996696\n",
      "{'co2_e': 0.024909697083, 'for_e': 0.0028725302783, 'h2o_e': 1000.0314516, 'h_e': 1000.0208879, 'nh4_e': 999.995103, 'o2_e': 999.97469229, 'pi_e': 999.99669628}\n",
      "Completed in 20.50 seconds\n"
     ]
    }
   ],
   "source": [
    "comets_exp.update(10.0)"
   ]
  },
  {
   "cell_type": "markdown",
   "metadata": {},
   "source": [
    "Retrieve the results as a time series"
   ]
  },
  {
   "cell_type": "code",
   "execution_count": 9,
   "metadata": {},
   "outputs": [],
   "source": [
    "comets_output = comets_exp.emitter.get_timeseries()"
   ]
  },
  {
   "cell_type": "markdown",
   "metadata": {},
   "source": [
    "Plot the results"
   ]
  },
  {
   "cell_type": "code",
   "execution_count": 10,
   "metadata": {},
   "outputs": [
    {
     "data": {
      "image/png": "[encoded data removed]",
      "text/plain": [
       "<Figure size 640x480 with 1 Axes>"
      ]
     },
     "metadata": {},
     "output_type": "display_data"
    }
   ],
   "source": [
    "plt.plot(comets_output['time'], comets_output['Biomass']['e_coli_core'])\n",
    "plt.show()"
   ]
  },
  {
   "cell_type": "code",
   "execution_count": 11,
   "metadata": {},
   "outputs": [
    {
     "data": {
      "image/png": "[encoded data removed]",
      "text/plain": [
       "<Figure size 640x480 with 1 Axes>"
      ]
     },
     "metadata": {},
     "output_type": "display_data"
    }
   ],
   "source": [
    "plt.plot(comets_output['time'], comets_output['Metabolites']['glc__D_e'], label = \"glucose\")\n",
    "plt.plot(comets_output['time'], comets_output['Metabolites']['ac_e'], label = \"acetate\")\n",
    "plt.plot(comets_output['time'], comets_output['Metabolites']['etoh_e'], label = \"ethanol\")\n",
    "plt.plot(comets_output['time'], comets_output['Metabolites']['for_e'], label = \"formate\")\n",
    "plt.legend()\n",
    "plt.show()"
   ]
  },
  {
   "cell_type": "markdown",
   "metadata": {},
   "source": [
    "## Ex 3: _E. coli_ core model in 3x3 grid"
   ]
  },
  {
   "cell_type": "markdown",
   "metadata": {},
   "source": [
    "Non-homogenous layouts aren't supported yet"
   ]
  },
  {
   "cell_type": "markdown",
   "metadata": {},
   "source": [
    "## Ex 4: Community"
   ]
  },
  {
   "cell_type": "markdown",
   "metadata": {},
   "source": [
    "Non-homogenous layouts aren't supported yet"
   ]
  }
 ],
 "metadata": {
  "kernelspec": {
   "display_name": "Python 3.9.12 ('base')",
   "language": "python",
   "name": "python3"
  },
  "language_info": {
   "codemirror_mode": {
    "name": "ipython",
    "version": 3
   },
   "file_extension": ".py",
   "mimetype": "text/x-python",
   "name": "python",
   "nbconvert_exporter": "python",
   "pygments_lexer": "ipython3",
   "version": "3.9.12"
  },
  "orig_nbformat": 4,
  "vscode": {
   "interpreter": {
    "hash": "5ee899d5a686fcbb406810e4b8d4baf6ae3726e8507dfd4a7eda607d4a51ae84"
   }
  }
 },
 "nbformat": 4,
 "nbformat_minor": 2
}
