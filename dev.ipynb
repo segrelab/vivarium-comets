{
 "cells": [
  {
   "cell_type": "markdown",
   "metadata": {},
   "source": [
    "# Scratch file for developing vivarium-comets"
   ]
  },
  {
   "cell_type": "markdown",
   "metadata": {},
   "source": [
    "## Run COMETS from COMETSpy for just one square"
   ]
  },
  {
   "cell_type": "code",
   "execution_count": 3,
   "metadata": {},
   "outputs": [],
   "source": [
    "import cometspy as c\n",
    "import cobra.test\n",
    "import matplotlib.pyplot as plt"
   ]
  },
  {
   "cell_type": "code",
   "execution_count": 4,
   "metadata": {},
   "outputs": [
    {
     "name": "stdout",
     "output_type": "stream",
     "text": [
      "0.22.1\n"
     ]
    }
   ],
   "source": [
    "# Check the cobra version\n",
    "print(cobra.__version__)"
   ]
  },
  {
   "cell_type": "markdown",
   "metadata": {},
   "source": [
    "### Create a layout for the simulation"
   ]
  },
  {
   "cell_type": "code",
   "execution_count": 5,
   "metadata": {},
   "outputs": [
    {
     "name": "stdout",
     "output_type": "stream",
     "text": [
      "building empty layout model\n",
      "models will need to be added with layout.add_model()\n",
      "Warning: The added metabolite (glc__D_e) is notable to be taken up by any of the current models\n",
      "Warning: The added metabolite (o2_e) is notable to be taken up by any of the current models\n",
      "Warning: The added metabolite (nh4_e) is notable to be taken up by any of the current models\n",
      "Warning: The added metabolite (pi_e) is notable to be taken up by any of the current models\n",
      "Warning: The added metabolite (h2o_e) is notable to be taken up by any of the current models\n",
      "Warning: The added metabolite (h_e) is notable to be taken up by any of the current models\n"
     ]
    }
   ],
   "source": [
    "# Create empty 1x1 layout\n",
    "test_tube = c.layout()\n",
    "\n",
    "# Add 11mM glucose\n",
    "test_tube.set_specific_metabolite('glc__D_e', 0.011)\n",
    "\n",
    "# Add infinite amount of oxygen\n",
    "test_tube.set_specific_metabolite('o2_e', 1000)\n",
    "\n",
    "# Add the rest of nutrients unlimited (ammonia, phosphate, water and protons)\n",
    "test_tube.set_specific_metabolite('nh4_e',1000);\n",
    "test_tube.set_specific_metabolite('pi_e',1000);\n",
    "test_tube.set_specific_metabolite('h2o_e',1000);\n",
    "test_tube.set_specific_metabolite('h_e',1000);"
   ]
  },
  {
   "cell_type": "markdown",
   "metadata": {},
   "source": [
    "### Load a model"
   ]
  },
  {
   "cell_type": "code",
   "execution_count": 6,
   "metadata": {},
   "outputs": [
    {
     "name": "stdout",
     "output_type": "stream",
     "text": [
      "Using license file /usr/local/gurobi/gurobi.lic\n",
      "Set parameter TokenServer to value sccsvc\n"
     ]
    }
   ],
   "source": [
    "# create the model using CobraPy functionality\n",
    "e_coli_cobra = cobra.test.create_test_model('textbook')\n",
    "# use the loaded model to build a comets model\n",
    "# Translate the cobra format into the comets format\n",
    "e_coli = c.model(e_coli_cobra)\n",
    "\n",
    "# remove the bounds from glucose import (will be set dynamically by COMETS)\n",
    "# The bounds will be over written by the Michaelis-Menten kinetics\n",
    "# By default the bounds are 0 and 1000, can cause problems\n",
    "e_coli.change_bounds('EX_glc__D_e', -1000, 1000)\n",
    "e_coli.change_bounds('EX_ac_e', -1000, 1000)\n",
    "\n",
    "# set the model's initial biomass\n",
    "# First two numbers are the x & y coordinates of the COMETS 2D grid\n",
    "# COMETS uses 0 indexing, so 0 0 is the first square\n",
    "e_coli.initial_pop = [0, 0, 5e-6]\n",
    "\n",
    "# add it to the test_tube\n",
    "test_tube.add_model(e_coli)"
   ]
  },
  {
   "cell_type": "markdown",
   "metadata": {},
   "source": [
    "### Set the simulation parameters"
   ]
  },
  {
   "cell_type": "code",
   "execution_count": 51,
   "metadata": {},
   "outputs": [],
   "source": [
    "# Set the parameters that are different from the default\n",
    "sim_params = c.params()\n",
    "\n",
    "# Parameters of the uptake reactions\n",
    "# Default values will be applied to all uptake reactions\n",
    "# You can set the parameters for each model, but here we just have one model so setting for all the models is the same\n",
    "sim_params.set_param('defaultVmax', 18.5)\n",
    "# sim_params.set_param('defaultKm', 0.000015)\n",
    "# Make Km much bigger, controls how \n",
    "sim_params.set_param('defaultKm', 0.000015)\n",
    "\n",
    "# How many time steps in total are we running\n",
    "sim_params.set_param('maxCycles', 100)\n",
    "\n",
    "# How long is each step\n",
    "# Accuracy of the solution will depend on how big the time step is\n",
    "sim_params.set_param('timeStep', 5.0)\n",
    "\n",
    "# Size of the spatial box\n",
    "# Unit is in cm\n",
    "# Here we will have a volume of 1 mL\n",
    "sim_params.set_param('spaceWidth', 1)\n",
    "\n",
    "sim_params.set_param('maxSpaceBiomass', 10)\n",
    "\n",
    "# Don't bother doing FBA where the biomass is really small\n",
    "sim_params.set_param('minSpaceBiomass', 1e-11)\n",
    "\n",
    "# Write the media so we can see how the media changes over time\n",
    "sim_params.set_param('writeMediaLog', True)\n",
    "\n",
    "# Need to see the media at every cycle so we can run one cycle at a time\n",
    "sim_params.set_param('MediaLogRate', 1)"
   ]
  },
  {
   "cell_type": "markdown",
   "metadata": {},
   "source": [
    "### Run the simulation"
   ]
  },
  {
   "cell_type": "code",
   "execution_count": 52,
   "metadata": {},
   "outputs": [],
   "source": [
    "# Define an experiment\n",
    "experiment = c.comets(test_tube, sim_params)"
   ]
  },
  {
   "cell_type": "code",
   "execution_count": 53,
   "metadata": {},
   "outputs": [
    {
     "name": "stdout",
     "output_type": "stream",
     "text": [
      "\n",
      "Running COMETS simulation ...\n",
      "Done!\n"
     ]
    }
   ],
   "source": [
    "experiment.run()"
   ]
  },
  {
   "cell_type": "markdown",
   "metadata": {},
   "source": [
    "### Plot the results"
   ]
  },
  {
   "cell_type": "markdown",
   "metadata": {},
   "source": [
    "#### Plot the biomass"
   ]
  },
  {
   "cell_type": "code",
   "execution_count": 54,
   "metadata": {},
   "outputs": [
    {
     "data": {
      "text/plain": [
       "3.2766871353e-05"
      ]
     },
     "execution_count": 54,
     "metadata": {},
     "output_type": "execute_result"
    }
   ],
   "source": [
    "experiment.total_biomass['e_coli_core'][1]"
   ]
  },
  {
   "cell_type": "code",
   "execution_count": 55,
   "metadata": {},
   "outputs": [
    {
     "data": {
      "text/plain": [
       "Text(0, 0.5, 'Biomass (gr.)')"
      ]
     },
     "execution_count": 55,
     "metadata": {},
     "output_type": "execute_result"
    },
    {
     "data": {
      "image/png": "[encoded data removed]",
      "text/plain": [
       "<Figure size 432x288 with 1 Axes>"
      ]
     },
     "metadata": {
      "needs_background": "light"
     },
     "output_type": "display_data"
    }
   ],
   "source": [
    "# Plot the biomass\n",
    "ax = experiment.total_biomass.plot(x = 'cycle')\n",
    "ax.set_ylabel(\"Biomass (gr.)\")"
   ]
  },
  {
   "cell_type": "markdown",
   "metadata": {},
   "source": [
    "#### Plot the metabolites"
   ]
  },
  {
   "cell_type": "code",
   "execution_count": 56,
   "metadata": {},
   "outputs": [
    {
     "data": {
      "text/html": [
       "<div>\n",
       "<style scoped>\n",
       "    .dataframe tbody tr th:only-of-type {\n",
       "        vertical-align: middle;\n",
       "    }\n",
       "\n",
       "    .dataframe tbody tr th {\n",
       "        vertical-align: top;\n",
       "    }\n",
       "\n",
       "    .dataframe thead th {\n",
       "        text-align: right;\n",
       "    }\n",
       "</style>\n",
       "<table border=\"1\" class=\"dataframe\">\n",
       "  <thead>\n",
       "    <tr style=\"text-align: right;\">\n",
       "      <th></th>\n",
       "      <th>metabolite</th>\n",
       "      <th>cycle</th>\n",
       "      <th>x</th>\n",
       "      <th>y</th>\n",
       "      <th>conc_mmol</th>\n",
       "    </tr>\n",
       "  </thead>\n",
       "  <tbody>\n",
       "    <tr>\n",
       "      <th>0</th>\n",
       "      <td>glc__D_e</td>\n",
       "      <td>0</td>\n",
       "      <td>1</td>\n",
       "      <td>1</td>\n",
       "      <td>0.011000</td>\n",
       "    </tr>\n",
       "    <tr>\n",
       "      <th>1</th>\n",
       "      <td>h2o_e</td>\n",
       "      <td>0</td>\n",
       "      <td>1</td>\n",
       "      <td>1</td>\n",
       "      <td>1000.000000</td>\n",
       "    </tr>\n",
       "    <tr>\n",
       "      <th>2</th>\n",
       "      <td>h_e</td>\n",
       "      <td>0</td>\n",
       "      <td>1</td>\n",
       "      <td>1</td>\n",
       "      <td>1000.000000</td>\n",
       "    </tr>\n",
       "    <tr>\n",
       "      <th>3</th>\n",
       "      <td>nh4_e</td>\n",
       "      <td>0</td>\n",
       "      <td>1</td>\n",
       "      <td>1</td>\n",
       "      <td>1000.000000</td>\n",
       "    </tr>\n",
       "    <tr>\n",
       "      <th>4</th>\n",
       "      <td>o2_e</td>\n",
       "      <td>0</td>\n",
       "      <td>1</td>\n",
       "      <td>1</td>\n",
       "      <td>1000.000000</td>\n",
       "    </tr>\n",
       "    <tr>\n",
       "      <th>...</th>\n",
       "      <td>...</td>\n",
       "      <td>...</td>\n",
       "      <td>...</td>\n",
       "      <td>...</td>\n",
       "      <td>...</td>\n",
       "    </tr>\n",
       "    <tr>\n",
       "      <th>803</th>\n",
       "      <td>h2o_e</td>\n",
       "      <td>100</td>\n",
       "      <td>1</td>\n",
       "      <td>1</td>\n",
       "      <td>1000.029220</td>\n",
       "    </tr>\n",
       "    <tr>\n",
       "      <th>804</th>\n",
       "      <td>h_e</td>\n",
       "      <td>100</td>\n",
       "      <td>1</td>\n",
       "      <td>1</td>\n",
       "      <td>1000.022507</td>\n",
       "    </tr>\n",
       "    <tr>\n",
       "      <th>805</th>\n",
       "      <td>nh4_e</td>\n",
       "      <td>100</td>\n",
       "      <td>1</td>\n",
       "      <td>1</td>\n",
       "      <td>999.994991</td>\n",
       "    </tr>\n",
       "    <tr>\n",
       "      <th>806</th>\n",
       "      <td>o2_e</td>\n",
       "      <td>100</td>\n",
       "      <td>1</td>\n",
       "      <td>1</td>\n",
       "      <td>999.976644</td>\n",
       "    </tr>\n",
       "    <tr>\n",
       "      <th>807</th>\n",
       "      <td>pi_e</td>\n",
       "      <td>100</td>\n",
       "      <td>1</td>\n",
       "      <td>1</td>\n",
       "      <td>999.996621</td>\n",
       "    </tr>\n",
       "  </tbody>\n",
       "</table>\n",
       "<p>808 rows × 5 columns</p>\n",
       "</div>"
      ],
      "text/plain": [
       "    metabolite  cycle  x  y    conc_mmol\n",
       "0     glc__D_e      0  1  1     0.011000\n",
       "1        h2o_e      0  1  1  1000.000000\n",
       "2          h_e      0  1  1  1000.000000\n",
       "3        nh4_e      0  1  1  1000.000000\n",
       "4         o2_e      0  1  1  1000.000000\n",
       "..         ...    ... .. ..          ...\n",
       "803      h2o_e    100  1  1  1000.029220\n",
       "804        h_e    100  1  1  1000.022507\n",
       "805      nh4_e    100  1  1   999.994991\n",
       "806       o2_e    100  1  1   999.976644\n",
       "807       pi_e    100  1  1   999.996621\n",
       "\n",
       "[808 rows x 5 columns]"
      ]
     },
     "execution_count": 56,
     "metadata": {},
     "output_type": "execute_result"
    }
   ],
   "source": [
    "media = experiment.media.copy()\n",
    "media"
   ]
  },
  {
   "cell_type": "code",
   "execution_count": 57,
   "metadata": {},
   "outputs": [
    {
     "name": "stdout",
     "output_type": "stream",
     "text": [
      "   metabolite  cycle  x  y    conc_mmol\n",
      "6        ac_e      1  1  1     0.000422\n",
      "7       co2_e      1  1  1     0.000244\n",
      "8       for_e      1  1  1     0.000500\n",
      "9    glc__D_e      1  1  1     0.010538\n",
      "10      h2o_e      1  1  1  1000.000447\n",
      "11        h_e      1  1  1  1000.001480\n",
      "12      nh4_e      1  1  1   999.999849\n",
      "13       o2_e      1  1  1   999.999537\n",
      "14       pi_e      1  1  1   999.999898\n"
     ]
    }
   ],
   "source": [
    "print(media.loc[media['cycle'] == 1])"
   ]
  },
  {
   "cell_type": "code",
   "execution_count": 42,
   "metadata": {},
   "outputs": [
    {
     "data": {
      "text/plain": [
       "Text(0, 0.5, 'Concentration (mmol)')"
      ]
     },
     "execution_count": 42,
     "metadata": {},
     "output_type": "execute_result"
    },
    {
     "data": {
      "image/png": "[encoded data removed]",
      "text/plain": [
       "<Figure size 432x288 with 1 Axes>"
      ]
     },
     "metadata": {
      "needs_background": "light"
     },
     "output_type": "display_data"
    }
   ],
   "source": [
    "# Look the matbolites\n",
    "# Only look at things less than 900 so that you don't see the infinite things, only look at thigs that are secreted\n",
    "media = media[media.conc_mmol<900]\n",
    "\n",
    "fig, ax = plt.subplots()\n",
    "media.groupby('metabolite').plot(x='cycle', ax =ax, y='conc_mmol')\n",
    "ax.legend(('acetate','ethanol', 'formate', 'glucose'))\n",
    "ax.set_ylabel(\"Concentration (mmol)\")"
   ]
  },
  {
   "cell_type": "code",
   "execution_count": 34,
   "metadata": {},
   "outputs": [
    {
     "data": {
      "text/plain": [
       "10"
      ]
     },
     "execution_count": 34,
     "metadata": {},
     "output_type": "execute_result"
    }
   ],
   "source": [
    "media['cycle'].max()"
   ]
  },
  {
   "cell_type": "code",
   "execution_count": 35,
   "metadata": {},
   "outputs": [
    {
     "data": {
      "text/html": [
       "<div>\n",
       "<style scoped>\n",
       "    .dataframe tbody tr th:only-of-type {\n",
       "        vertical-align: middle;\n",
       "    }\n",
       "\n",
       "    .dataframe tbody tr th {\n",
       "        vertical-align: top;\n",
       "    }\n",
       "\n",
       "    .dataframe thead th {\n",
       "        text-align: right;\n",
       "    }\n",
       "</style>\n",
       "<table border=\"1\" class=\"dataframe\">\n",
       "  <thead>\n",
       "    <tr style=\"text-align: right;\">\n",
       "      <th></th>\n",
       "      <th>metabolite</th>\n",
       "      <th>cycle</th>\n",
       "      <th>x</th>\n",
       "      <th>y</th>\n",
       "      <th>conc_mmol</th>\n",
       "    </tr>\n",
       "  </thead>\n",
       "  <tbody>\n",
       "    <tr>\n",
       "      <th>15</th>\n",
       "      <td>ac_e</td>\n",
       "      <td>10</td>\n",
       "      <td>1</td>\n",
       "      <td>1</td>\n",
       "      <td>8.673617e-19</td>\n",
       "    </tr>\n",
       "    <tr>\n",
       "      <th>16</th>\n",
       "      <td>co2_e</td>\n",
       "      <td>10</td>\n",
       "      <td>1</td>\n",
       "      <td>1</td>\n",
       "      <td>2.106263e-02</td>\n",
       "    </tr>\n",
       "    <tr>\n",
       "      <th>17</th>\n",
       "      <td>for_e</td>\n",
       "      <td>10</td>\n",
       "      <td>1</td>\n",
       "      <td>1</td>\n",
       "      <td>7.867240e-03</td>\n",
       "    </tr>\n",
       "    <tr>\n",
       "      <th>18</th>\n",
       "      <td>h2o_e</td>\n",
       "      <td>10</td>\n",
       "      <td>1</td>\n",
       "      <td>1</td>\n",
       "      <td>1.000027e+03</td>\n",
       "    </tr>\n",
       "    <tr>\n",
       "      <th>19</th>\n",
       "      <td>h_e</td>\n",
       "      <td>10</td>\n",
       "      <td>1</td>\n",
       "      <td>1</td>\n",
       "      <td>1.000025e+03</td>\n",
       "    </tr>\n",
       "    <tr>\n",
       "      <th>20</th>\n",
       "      <td>nh4_e</td>\n",
       "      <td>10</td>\n",
       "      <td>1</td>\n",
       "      <td>1</td>\n",
       "      <td>9.999953e+02</td>\n",
       "    </tr>\n",
       "    <tr>\n",
       "      <th>21</th>\n",
       "      <td>o2_e</td>\n",
       "      <td>10</td>\n",
       "      <td>1</td>\n",
       "      <td>1</td>\n",
       "      <td>9.999760e+02</td>\n",
       "    </tr>\n",
       "    <tr>\n",
       "      <th>22</th>\n",
       "      <td>pi_e</td>\n",
       "      <td>10</td>\n",
       "      <td>1</td>\n",
       "      <td>1</td>\n",
       "      <td>9.999968e+02</td>\n",
       "    </tr>\n",
       "  </tbody>\n",
       "</table>\n",
       "</div>"
      ],
      "text/plain": [
       "   metabolite  cycle  x  y     conc_mmol\n",
       "15       ac_e     10  1  1  8.673617e-19\n",
       "16      co2_e     10  1  1  2.106263e-02\n",
       "17      for_e     10  1  1  7.867240e-03\n",
       "18      h2o_e     10  1  1  1.000027e+03\n",
       "19        h_e     10  1  1  1.000025e+03\n",
       "20      nh4_e     10  1  1  9.999953e+02\n",
       "21       o2_e     10  1  1  9.999760e+02\n",
       "22       pi_e     10  1  1  9.999968e+02"
      ]
     },
     "execution_count": 35,
     "metadata": {},
     "output_type": "execute_result"
    }
   ],
   "source": [
    "most_recent_media = media.loc[media['cycle'] == media['cycle'].max()]\n",
    "most_recent_media"
   ]
  },
  {
   "cell_type": "code",
   "execution_count": 16,
   "metadata": {},
   "outputs": [
    {
     "data": {
      "text/plain": [
       "{0: {'metabolite': 'glc__D_e', 'cycle': 0, 'x': 1, 'y': 1, 'conc_mmol': 0.011},\n",
       " 1: {'metabolite': 'h2o_e', 'cycle': 0, 'x': 1, 'y': 1, 'conc_mmol': 1000.0},\n",
       " 2: {'metabolite': 'h_e', 'cycle': 0, 'x': 1, 'y': 1, 'conc_mmol': 1000.0},\n",
       " 3: {'metabolite': 'nh4_e', 'cycle': 0, 'x': 1, 'y': 1, 'conc_mmol': 1000.0},\n",
       " 4: {'metabolite': 'o2_e', 'cycle': 0, 'x': 1, 'y': 1, 'conc_mmol': 1000.0},\n",
       " 5: {'metabolite': 'pi_e', 'cycle': 0, 'x': 1, 'y': 1, 'conc_mmol': 1000.0},\n",
       " 6: {'metabolite': 'ac_e',\n",
       "  'cycle': 5,\n",
       "  'x': 1,\n",
       "  'y': 1,\n",
       "  'conc_mmol': 0.0031091676164},\n",
       " 7: {'metabolite': 'co2_e',\n",
       "  'cycle': 5,\n",
       "  'x': 1,\n",
       "  'y': 1,\n",
       "  'conc_mmol': 0.0018001200596},\n",
       " 8: {'metabolite': 'for_e',\n",
       "  'cycle': 5,\n",
       "  'x': 1,\n",
       "  'y': 1,\n",
       "  'conc_mmol': 0.00368306135},\n",
       " 9: {'metabolite': 'glc__D_e',\n",
       "  'cycle': 5,\n",
       "  'x': 1,\n",
       "  'y': 1,\n",
       "  'conc_mmol': 0.0075998360778},\n",
       " 10: {'metabolite': 'h2o_e',\n",
       "  'cycle': 5,\n",
       "  'x': 1,\n",
       "  'y': 1,\n",
       "  'conc_mmol': 1000.0032892},\n",
       " 11: {'metabolite': 'h_e',\n",
       "  'cycle': 5,\n",
       "  'x': 1,\n",
       "  'y': 1,\n",
       "  'conc_mmol': 1000.010893},\n",
       " 12: {'metabolite': 'nh4_e',\n",
       "  'cycle': 5,\n",
       "  'x': 1,\n",
       "  'y': 1,\n",
       "  'conc_mmol': 999.9988853},\n",
       " 13: {'metabolite': 'o2_e',\n",
       "  'cycle': 5,\n",
       "  'x': 1,\n",
       "  'y': 1,\n",
       "  'conc_mmol': 999.99659469},\n",
       " 14: {'metabolite': 'pi_e',\n",
       "  'cycle': 5,\n",
       "  'x': 1,\n",
       "  'y': 1,\n",
       "  'conc_mmol': 999.99924798},\n",
       " 15: {'metabolite': 'ac_e',\n",
       "  'cycle': 10,\n",
       "  'x': 1,\n",
       "  'y': 1,\n",
       "  'conc_mmol': 8.673617379900001e-19},\n",
       " 16: {'metabolite': 'co2_e',\n",
       "  'cycle': 10,\n",
       "  'x': 1,\n",
       "  'y': 1,\n",
       "  'conc_mmol': 0.021062634626},\n",
       " 17: {'metabolite': 'for_e',\n",
       "  'cycle': 10,\n",
       "  'x': 1,\n",
       "  'y': 1,\n",
       "  'conc_mmol': 0.007867239965},\n",
       " 18: {'metabolite': 'h2o_e',\n",
       "  'cycle': 10,\n",
       "  'x': 1,\n",
       "  'y': 1,\n",
       "  'conc_mmol': 1000.0274081},\n",
       " 19: {'metabolite': 'h_e',\n",
       "  'cycle': 10,\n",
       "  'x': 1,\n",
       "  'y': 1,\n",
       "  'conc_mmol': 1000.0253415},\n",
       " 20: {'metabolite': 'nh4_e',\n",
       "  'cycle': 10,\n",
       "  'x': 1,\n",
       "  'y': 1,\n",
       "  'conc_mmol': 999.99525006},\n",
       " 21: {'metabolite': 'o2_e',\n",
       "  'cycle': 10,\n",
       "  'x': 1,\n",
       "  'y': 1,\n",
       "  'conc_mmol': 999.97601082},\n",
       " 22: {'metabolite': 'pi_e',\n",
       "  'cycle': 10,\n",
       "  'x': 1,\n",
       "  'y': 1,\n",
       "  'conc_mmol': 999.99679548}}"
      ]
     },
     "execution_count": 16,
     "metadata": {},
     "output_type": "execute_result"
    }
   ],
   "source": [
    "media.to_dict('index')"
   ]
  },
  {
   "cell_type": "code",
   "execution_count": 36,
   "metadata": {},
   "outputs": [
    {
     "data": {
      "text/plain": [
       "{'ac_e': 8.673617379900001e-19,\n",
       " 'co2_e': 0.021062634626,\n",
       " 'for_e': 0.007867239965,\n",
       " 'h2o_e': 1000.0274081,\n",
       " 'h_e': 1000.0253415,\n",
       " 'nh4_e': 999.99525006,\n",
       " 'o2_e': 999.97601082,\n",
       " 'pi_e': 999.99679548}"
      ]
     },
     "execution_count": 36,
     "metadata": {},
     "output_type": "execute_result"
    }
   ],
   "source": [
    "most_recent_media.set_index('metabolite').to_dict()['conc_mmol']"
   ]
  },
  {
   "cell_type": "markdown",
   "metadata": {},
   "source": [
    "## Pull out the results I need for that square"
   ]
  },
  {
   "cell_type": "markdown",
   "metadata": {},
   "source": [
    "I'll need:\n",
    "1. Biomass\n",
    "    * `experiment.total_biomass`\n",
    "    * How to break out by the model?\n",
    "2. Nutrients\n",
    "    * `experiment.media`\n",
    "    * Do I need to do .copy()\n",
    "3. Diffusing biomass\n",
    "    * Really don't know how to do this one"
   ]
  },
  {
   "cell_type": "markdown",
   "metadata": {},
   "source": [
    "## Make a Vivarium Process"
   ]
  },
  {
   "cell_type": "code",
   "execution_count": 18,
   "metadata": {},
   "outputs": [],
   "source": [
    "# Pip install to a specific location on the scc\n",
    "# !pip install --target=/projectnb/cometsfba/pythonlibs/python3.8/site-packages vivarium-core"
   ]
  },
  {
   "cell_type": "code",
   "execution_count": 19,
   "metadata": {},
   "outputs": [],
   "source": [
    "import matplotlib"
   ]
  },
  {
   "cell_type": "code",
   "execution_count": null,
   "metadata": {},
   "outputs": [],
   "source": []
  },
  {
   "cell_type": "code",
   "execution_count": 20,
   "metadata": {},
   "outputs": [],
   "source": [
    "# Process, Deriver, and Composer base classes\n",
    "from vivarium.core.process import Process, Deriver\n",
    "from vivarium.core.composer import Composer\n",
    "from vivarium.core.registry import process_registry"
   ]
  },
  {
   "cell_type": "code",
   "execution_count": 21,
   "metadata": {},
   "outputs": [],
   "source": [
    "# helper functions for composition\n",
    "from vivarium.core.composition import (\n",
    "    simulate_process,\n",
    "    process_in_experiment,\n",
    "    composer_in_experiment,\n",
    "    composite_in_experiment)\n",
    "\n",
    "# other vivarium imports\n",
    "from vivarium.core.engine import Engine, pf\n",
    "from vivarium.library.units import units\n",
    "\n",
    "# plotting functions\n",
    "from vivarium.plots.simulation_output import (\n",
    "    plot_simulation_output, plot_variables)\n",
    "from vivarium.plots.simulation_output import _save_fig_to_dir as save_fig_to_dir\n",
    "from vivarium.plots.agents_multigen import plot_agents_multigen\n",
    "from vivarium.plots.topology import plot_topology\n"
   ]
  },
  {
   "cell_type": "code",
   "execution_count": 74,
   "metadata": {},
   "outputs": [],
   "source": [
    "class Comets(Process):\n",
    "    \n",
    "    defaults = {\n",
    "        'dimensions': [1,1]\n",
    "    }\n",
    "\n",
    "    def __init__(self, parameters=None):\n",
    "        super().__init__(parameters)\n",
    "        dimensions = self.parameters['dimensions']\n",
    "        \n",
    "    def ports_schema(self):\n",
    "        return {\n",
    "            # Declare a port for biomass\n",
    "            'Biomass': {\n",
    "                # Define the variable that goees through that port\n",
    "                'ecoli_biomass': {\n",
    "                    # Define how that variable operates\n",
    "                    '_default': 0.0,\n",
    "                    '_updater': 'set', # Use set, since we are not returning the delta but the new value\n",
    "                    '_emit': True}},\n",
    "            \n",
    "            # Use dictionary comprehension to declare schema for all the metabolites\n",
    "            'Metabolites': {\n",
    "#                 'metabolite_dictionary': {\n",
    "                '*': {\n",
    "                    '_default': 0.0,\n",
    "                    '_updater': 'set',\n",
    "                    '_emit': True\n",
    "                }\n",
    "            }\n",
    "        }\n",
    "    \n",
    "    def next_update(self, timestep, states):\n",
    "        # Parse variables from states\n",
    "        biomass = states['Biomass']['ecoli_biomass']\n",
    "        metabolites = states['Metabolites']\n",
    "        \n",
    "        # Run COMETS (need to use timestep somewhere in here)\n",
    "        ##################################################################\n",
    "        # Create empty 1x1 layout\n",
    "        test_tube = c.layout()\n",
    "        \n",
    "        # Add all the metabolites\n",
    "        # Kludge- loop through all the metabolites and set specific\n",
    "        for met_id in metabolites:\n",
    "            test_tube.set_specific_metabolite(met_id, metabolites[met_id])\n",
    "        \n",
    "        # Hard code loading the E coli model\n",
    "        e_coli_cobra = cobra.test.create_test_model('textbook')\n",
    "        # Translate the cobra format into the comets format\n",
    "        e_coli = c.model(e_coli_cobra)\n",
    "\n",
    "        # remove the bounds from glucose import (will be set dynamically by COMETS)\n",
    "        # The bounds will be over written by the Michaelis-Menten kinetics\n",
    "        # By default the bounds are 0 and 1000, can cause problems\n",
    "        e_coli.change_bounds('EX_glc__D_e', -1000, 1000)\n",
    "        e_coli.change_bounds('EX_ac_e', -1000, 1000)\n",
    "        \n",
    "        # set the model's initial biomass\n",
    "        # First two numbers are the x & y coordinates of the COMETS 2D grid\n",
    "        # COMETS uses 0 indexing, so 0 0 is the first square\n",
    "        e_coli.initial_pop = [0, 0, biomass]\n",
    "\n",
    "        # add it to the test_tube\n",
    "        test_tube.add_model(e_coli)\n",
    "        \n",
    "        # Hardcode the simulation parameters\n",
    "        sim_params = c.params()\n",
    "        sim_params.set_param('defaultVmax', 18.5)\n",
    "        sim_params.set_param('defaultKm', 0.000015)\n",
    "        sim_params.set_param('maxCycles', 1)\n",
    "        sim_params.set_param('timeStep', timestep)\n",
    "        sim_params.set_param('spaceWidth', 1)\n",
    "        sim_params.set_param('maxSpaceBiomass', 10)\n",
    "        sim_params.set_param('minSpaceBiomass', 1e-11)\n",
    "        sim_params.set_param('writeMediaLog', True)\n",
    "        sim_params.set_param('MediaLogRate', 1)\n",
    "\n",
    "        # Define an experiment\n",
    "        experiment = c.comets(test_tube, sim_params)\n",
    "    \n",
    "        # Run the simulation\n",
    "        experiment.run()\n",
    "        ##################################################################\n",
    "        \n",
    "        # Get the next biomass and metabolites from the COMETS run\n",
    "        next_biomass = experiment.total_biomass['e_coli_core'][1]\n",
    "        \n",
    "        media = experiment.media.copy()\n",
    "        print(media)\n",
    "        most_recent_media = media.loc[media['cycle'] == media['cycle'].max()]\n",
    "        next_metabolite = most_recent_media.set_index('metabolite').to_dict()['conc_mmol']\n",
    "        print(next_metabolite)\n",
    "        \n",
    "        return {\n",
    "            'Biomass': {\n",
    "                'ecoli_biomass': next_biomass\n",
    "            },\n",
    "            'Metabolites': next_metabolite\n",
    "        }"
   ]
  },
  {
   "cell_type": "markdown",
   "metadata": {},
   "source": [
    "## Run the Vivarium Process"
   ]
  },
  {
   "cell_type": "code",
   "execution_count": 75,
   "metadata": {},
   "outputs": [],
   "source": [
    "comets_config = {'time_step': 1.0, 'dimensions': [1,1]}\n",
    "comets_sim_settings = {\n",
    "    'experiment_id': 'foo'}\n",
    "comets_initial_state = {\n",
    "    'Biomass': {'ecoli_biomass': 0.000005},\n",
    "    'Metabolites': {'glc__D_e': 0.011,\n",
    "                    'o2_e': 1000,\n",
    "                    'nh4_e': 1000,\n",
    "                    'pi_e': 1000,\n",
    "                    'h2o_e': 1000,\n",
    "                    'h_e': 1000\n",
    "                   }\n",
    "}"
   ]
  },
  {
   "cell_type": "code",
   "execution_count": 76,
   "metadata": {},
   "outputs": [
    {
     "name": "stdout",
     "output_type": "stream",
     "text": [
      "\n",
      "Simulation ID: 9becd54e-44e3-11ed-841b-7cd30ac64f20\n",
      "Created: 10/05/2022 at 15:26:28\n",
      "building empty layout model\n",
      "models will need to be added with layout.add_model()\n",
      "Warning: The added metabolite (glc__D_e) is notable to be taken up by any of the current models\n",
      "Warning: The added metabolite (o2_e) is notable to be taken up by any of the current models\n",
      "Warning: The added metabolite (nh4_e) is notable to be taken up by any of the current models\n",
      "Warning: The added metabolite (pi_e) is notable to be taken up by any of the current models\n",
      "Warning: The added metabolite (h2o_e) is notable to be taken up by any of the current models\n",
      "Warning: The added metabolite (h_e) is notable to be taken up by any of the current models\n",
      "\n",
      "Running COMETS simulation ...\n",
      "Done!\n",
      "   metabolite  cycle  x  y    conc_mmol\n",
      "0    glc__D_e      0  1  1     0.011000\n",
      "1       h2o_e      0  1  1  1000.000000\n",
      "2         h_e      0  1  1  1000.000000\n",
      "3       nh4_e      0  1  1  1000.000000\n",
      "4        o2_e      0  1  1  1000.000000\n",
      "5        pi_e      0  1  1  1000.000000\n",
      "6        ac_e      1  1  1     0.000084\n",
      "7       co2_e      1  1  1     0.000049\n",
      "8       for_e      1  1  1     0.000100\n",
      "9    glc__D_e      1  1  1     0.010908\n",
      "10      h2o_e      1  1  1  1000.000089\n",
      "11        h_e      1  1  1  1000.000296\n",
      "12      nh4_e      1  1  1   999.999970\n",
      "13       o2_e      1  1  1   999.999907\n",
      "14       pi_e      1  1  1   999.999980\n",
      "{'ac_e': 8.4475326862e-05, 'co2_e': 4.8873569277e-05, 'for_e': 0.00010009337066, 'glc__D_e': 0.010907625965, 'h2o_e': 1000.0000893, 'h_e': 1000.000296, 'nh4_e': 999.99996972, 'o2_e': 999.9999075, 'pi_e': 999.99997957}\n",
      "building empty layout model\n",
      "models will need to be added with layout.add_model()\n",
      "Warning: The added metabolite (glc__D_e) is notable to be taken up by any of the current models\n",
      "Warning: The added metabolite (o2_e) is notable to be taken up by any of the current models\n",
      "Warning: The added metabolite (nh4_e) is notable to be taken up by any of the current models\n",
      "Warning: The added metabolite (pi_e) is notable to be taken up by any of the current models\n",
      "Warning: The added metabolite (h2o_e) is notable to be taken up by any of the current models\n",
      "Warning: The added metabolite (h_e) is notable to be taken up by any of the current models\n",
      "\n",
      "Running COMETS simulation ...\n",
      "Done!\n",
      "   metabolite  cycle  x  y    conc_mmol\n",
      "0    glc__D_e      0  1  1     0.010908\n",
      "1       h2o_e      0  1  1  1000.000089\n",
      "2         h_e      0  1  1  1000.000296\n",
      "3       nh4_e      0  1  1   999.999970\n",
      "4        o2_e      0  1  1   999.999907\n",
      "5        pi_e      0  1  1   999.999980\n",
      "6        ac_e      1  1  1     0.000178\n",
      "7       co2_e      1  1  1     0.000103\n",
      "8       for_e      1  1  1     0.000211\n",
      "9    glc__D_e      1  1  1     0.010713\n",
      "10      h2o_e      1  1  1  1000.000278\n",
      "11        h_e      1  1  1  1000.000921\n",
      "12      nh4_e      1  1  1   999.999906\n",
      "13       o2_e      1  1  1   999.999712\n",
      "14       pi_e      1  1  1   999.999936\n",
      "{'ac_e': 0.00017829677055, 'co2_e': 0.00010316007097, 'for_e': 0.00021125667706, 'glc__D_e': 0.01071265666, 'h2o_e': 1000.0002778, 'h_e': 1000.0009207, 'nh4_e': 999.99990581, 'o2_e': 999.99971226, 'pi_e': 999.99993645}\n",
      "building empty layout model\n",
      "models will need to be added with layout.add_model()\n",
      "Warning: The added metabolite (glc__D_e) is notable to be taken up by any of the current models\n",
      "Warning: The added metabolite (o2_e) is notable to be taken up by any of the current models\n",
      "Warning: The added metabolite (nh4_e) is notable to be taken up by any of the current models\n",
      "Warning: The added metabolite (pi_e) is notable to be taken up by any of the current models\n",
      "Warning: The added metabolite (h2o_e) is notable to be taken up by any of the current models\n",
      "Warning: The added metabolite (h_e) is notable to be taken up by any of the current models\n",
      "\n",
      "Running COMETS simulation ...\n",
      "Done!\n",
      "   metabolite  cycle  x  y    conc_mmol\n",
      "0    glc__D_e      0  1  1     0.010713\n",
      "1       h2o_e      0  1  1  1000.000278\n",
      "2         h_e      0  1  1  1000.000921\n",
      "3       nh4_e      0  1  1   999.999906\n",
      "4        o2_e      0  1  1   999.999712\n",
      "5        pi_e      0  1  1   999.999936\n",
      "6        ac_e      1  1  1     0.000376\n",
      "7       co2_e      1  1  1     0.000218\n",
      "8       for_e      1  1  1     0.000446\n",
      "9    glc__D_e      1  1  1     0.010301\n",
      "10      h2o_e      1  1  1  1000.000676\n",
      "11        h_e      1  1  1  1000.002239\n",
      "12      nh4_e      1  1  1   999.999771\n",
      "13       o2_e      1  1  1   999.999300\n",
      "14       pi_e      1  1  1   999.999845\n",
      "{'ac_e': 0.00037631074043, 'co2_e': 0.00021775429738, 'for_e': 0.00044585663274, 'glc__D_e': 0.010301151485, 'h2o_e': 1000.0006758, 'h_e': 1000.0022391, 'nh4_e': 999.99977091, 'o2_e': 999.99930018, 'pi_e': 999.99984544}\n",
      "building empty layout model\n",
      "models will need to be added with layout.add_model()\n",
      "Warning: The added metabolite (glc__D_e) is notable to be taken up by any of the current models\n",
      "Warning: The added metabolite (o2_e) is notable to be taken up by any of the current models\n",
      "Warning: The added metabolite (nh4_e) is notable to be taken up by any of the current models\n",
      "Warning: The added metabolite (pi_e) is notable to be taken up by any of the current models\n",
      "Warning: The added metabolite (h2o_e) is notable to be taken up by any of the current models\n",
      "Warning: The added metabolite (h_e) is notable to be taken up by any of the current models\n",
      "\n",
      "Running COMETS simulation ...\n",
      "Done!\n",
      "   metabolite  cycle  x  y    conc_mmol\n",
      "0    glc__D_e      0  1  1     0.010301\n",
      "1       h2o_e      0  1  1  1000.000676\n",
      "2         h_e      0  1  1  1000.002239\n",
      "3       nh4_e      0  1  1   999.999771\n",
      "4        o2_e      0  1  1   999.999300\n",
      "5        pi_e      0  1  1   999.999845\n",
      "6        ac_e      1  1  1     0.000794\n",
      "7       co2_e      1  1  1     0.000460\n",
      "8       for_e      1  1  1     0.000941\n",
      "9    glc__D_e      1  1  1     0.009433\n",
      "10      h2o_e      1  1  1  1000.001516\n",
      "11        h_e      1  1  1  1000.005022\n",
      "12      nh4_e      1  1  1   999.999486\n",
      "13       o2_e      1  1  1   999.998430\n",
      "14       pi_e      1  1  1   999.999653\n",
      "{'ac_e': 0.00079419280718, 'co2_e': 0.00045968696517, 'for_e': 0.00094087852037, 'glc__D_e': 0.0094326553953, 'h2o_e': 1000.0015158, 'h_e': 1000.0050216, 'nh4_e': 999.99948619, 'o2_e': 999.99843042, 'pi_e': 999.99965336}\n",
      "building empty layout model\n",
      "models will need to be added with layout.add_model()\n",
      "Warning: The added metabolite (glc__D_e) is notable to be taken up by any of the current models\n",
      "Warning: The added metabolite (o2_e) is notable to be taken up by any of the current models\n",
      "Warning: The added metabolite (nh4_e) is notable to be taken up by any of the current models\n",
      "Warning: The added metabolite (pi_e) is notable to be taken up by any of the current models\n",
      "Warning: The added metabolite (h2o_e) is notable to be taken up by any of the current models\n",
      "Warning: The added metabolite (h_e) is notable to be taken up by any of the current models\n",
      "\n",
      "Running COMETS simulation ...\n",
      "Done!\n",
      "   metabolite  cycle  x  y    conc_mmol\n",
      "0    glc__D_e      0  1  1     0.009433\n",
      "1       h2o_e      0  1  1  1000.001516\n",
      "2         h_e      0  1  1  1000.005022\n",
      "3       nh4_e      0  1  1   999.999486\n",
      "4        o2_e      0  1  1   999.998430\n",
      "5        pi_e      0  1  1   999.999653\n",
      "6        ac_e      1  1  1     0.001676\n",
      "7       co2_e      1  1  1     0.000971\n",
      "8       for_e      1  1  1     0.001985\n",
      "9    glc__D_e      1  1  1     0.007600\n",
      "10      h2o_e      1  1  1  1000.003289\n",
      "11        h_e      1  1  1  1000.010893\n",
      "12      nh4_e      1  1  1   999.998885\n",
      "13       o2_e      1  1  1   999.996595\n",
      "14       pi_e      1  1  1   999.999248\n",
      "{'ac_e': 0.0016758919714, 'co2_e': 0.00097064515682, 'for_e': 0.0019849761492, 'glc__D_e': 0.0075998360782, 'h2o_e': 1000.0032892, 'h_e': 1000.010893, 'nh4_e': 999.9988853, 'o2_e': 999.99659469, 'pi_e': 999.99924798}\n",
      "building empty layout model\n",
      "models will need to be added with layout.add_model()\n",
      "Warning: The added metabolite (glc__D_e) is notable to be taken up by any of the current models\n",
      "Warning: The added metabolite (o2_e) is notable to be taken up by any of the current models\n",
      "Warning: The added metabolite (nh4_e) is notable to be taken up by any of the current models\n",
      "Warning: The added metabolite (pi_e) is notable to be taken up by any of the current models\n",
      "Warning: The added metabolite (h2o_e) is notable to be taken up by any of the current models\n",
      "Warning: The added metabolite (h_e) is notable to be taken up by any of the current models\n"
     ]
    },
    {
     "name": "stdout",
     "output_type": "stream",
     "text": [
      "\n",
      "Running COMETS simulation ...\n",
      "Done!\n",
      "   metabolite  cycle  x  y    conc_mmol\n",
      "0    glc__D_e      0  1  1     0.007600\n",
      "1       h2o_e      0  1  1  1000.003289\n",
      "2         h_e      0  1  1  1000.010893\n",
      "3       nh4_e      0  1  1   999.998885\n",
      "4        o2_e      0  1  1   999.996595\n",
      "5        pi_e      0  1  1   999.999248\n",
      "6        ac_e      1  1  1     0.003535\n",
      "7       co2_e      1  1  1     0.002051\n",
      "8       for_e      1  1  1     0.004184\n",
      "9    glc__D_e      1  1  1     0.003733\n",
      "10      h2o_e      1  1  1  1000.007034\n",
      "11        h_e      1  1  1  1000.023277\n",
      "12      nh4_e      1  1  1   999.997617\n",
      "13       o2_e      1  1  1   999.992720\n",
      "14       pi_e      1  1  1   999.998393\n",
      "{'ac_e': 0.0035349430308, 'co2_e': 0.0020511243863, 'for_e': 0.0041841786152, 'glc__D_e': 0.0037330799349, 'h2o_e': 1000.0070342, 'h_e': 1000.0232766, 'nh4_e': 999.99761737, 'o2_e': 999.9927203, 'pi_e': 999.99839258}\n",
      "building empty layout model\n",
      "models will need to be added with layout.add_model()\n",
      "Warning: The added metabolite (glc__D_e) is notable to be taken up by any of the current models\n",
      "Warning: The added metabolite (o2_e) is notable to be taken up by any of the current models\n",
      "Warning: The added metabolite (nh4_e) is notable to be taken up by any of the current models\n",
      "Warning: The added metabolite (pi_e) is notable to be taken up by any of the current models\n",
      "Warning: The added metabolite (h2o_e) is notable to be taken up by any of the current models\n",
      "Warning: The added metabolite (h_e) is notable to be taken up by any of the current models\n",
      "\n",
      "Running COMETS simulation ...\n",
      "Done!\n",
      "   metabolite  cycle  x  y    conc_mmol\n",
      "0    glc__D_e      0  1  1     0.003733\n",
      "1       h2o_e      0  1  1  1000.007034\n",
      "2         h_e      0  1  1  1000.023277\n",
      "3       nh4_e      0  1  1   999.997617\n",
      "4        o2_e      0  1  1   999.992720\n",
      "5        pi_e      0  1  1   999.998393\n",
      "6        ac_e      1  1  1     0.000090\n",
      "7       co2_e      1  1  1     0.008548\n",
      "8       h2o_e      1  1  1  1000.017922\n",
      "9         h_e      1  1  1  1000.029811\n",
      "10      nh4_e      1  1  1   999.995866\n",
      "11       o2_e      1  1  1   999.984544\n",
      "12       pi_e      1  1  1   999.997211\n",
      "{'ac_e': 9.0126812822e-05, 'co2_e': 0.0085475466768, 'h2o_e': 1000.0179218, 'h_e': 1000.0298109, 'nh4_e': 999.99586569, 'o2_e': 999.98454414, 'pi_e': 999.99721082}\n",
      "building empty layout model\n",
      "models will need to be added with layout.add_model()\n",
      "Warning: The added metabolite (glc__D_e) is notable to be taken up by any of the current models\n",
      "Warning: The added metabolite (o2_e) is notable to be taken up by any of the current models\n",
      "Warning: The added metabolite (nh4_e) is notable to be taken up by any of the current models\n",
      "Warning: The added metabolite (pi_e) is notable to be taken up by any of the current models\n",
      "Warning: The added metabolite (h2o_e) is notable to be taken up by any of the current models\n",
      "Warning: The added metabolite (h_e) is notable to be taken up by any of the current models\n",
      "\n",
      "Running COMETS simulation ...\n",
      "Done!\n",
      "   metabolite  cycle  x  y    conc_mmol\n",
      "0    glc__D_e      0  1  1     0.003733\n",
      "1       h2o_e      0  1  1  1000.017922\n",
      "2         h_e      0  1  1  1000.029811\n",
      "3       nh4_e      0  1  1   999.995866\n",
      "4        o2_e      0  1  1   999.984544\n",
      "5        pi_e      0  1  1   999.997211\n",
      "6       co2_e      1  1  1     0.009224\n",
      "7       h2o_e      1  1  1  1000.029401\n",
      "8         h_e      1  1  1  1000.036021\n",
      "9       nh4_e      1  1  1   999.994178\n",
      "10       o2_e      1  1  1   999.975678\n",
      "11       pi_e      1  1  1   999.996072\n",
      "{'co2_e': 0.0092240006066, 'h2o_e': 1000.0294009, 'h_e': 1000.0360211, 'nh4_e': 999.99417759, 'o2_e': 999.97567805, 'pi_e': 999.99607196}\n",
      "building empty layout model\n",
      "models will need to be added with layout.add_model()\n",
      "Warning: The added metabolite (glc__D_e) is notable to be taken up by any of the current models\n",
      "Warning: The added metabolite (o2_e) is notable to be taken up by any of the current models\n",
      "Warning: The added metabolite (nh4_e) is notable to be taken up by any of the current models\n",
      "Warning: The added metabolite (pi_e) is notable to be taken up by any of the current models\n",
      "Warning: The added metabolite (h2o_e) is notable to be taken up by any of the current models\n",
      "Warning: The added metabolite (h_e) is notable to be taken up by any of the current models\n",
      "\n",
      "Running COMETS simulation ...\n",
      "Done!\n",
      "   metabolite  cycle  x  y    conc_mmol\n",
      "0    glc__D_e      0  1  1     0.003733\n",
      "1       h2o_e      0  1  1  1000.029401\n",
      "2         h_e      0  1  1  1000.036021\n",
      "3       nh4_e      0  1  1   999.994178\n",
      "4        o2_e      0  1  1   999.975678\n",
      "5        pi_e      0  1  1   999.996072\n",
      "6       co2_e      1  1  1     0.009787\n",
      "7       h2o_e      1  1  1  1000.041347\n",
      "8         h_e      1  1  1  1000.041966\n",
      "9       nh4_e      1  1  1   999.992562\n",
      "10       o2_e      1  1  1   999.966234\n",
      "11       pi_e      1  1  1   999.994982\n",
      "{'co2_e': 0.0097868928271, 'h2o_e': 1000.0413466, 'h_e': 1000.041966, 'nh4_e': 999.99256162, 'o2_e': 999.96623377, 'pi_e': 999.99498175}\n",
      "building empty layout model\n",
      "models will need to be added with layout.add_model()\n",
      "Warning: The added metabolite (glc__D_e) is notable to be taken up by any of the current models\n",
      "Warning: The added metabolite (o2_e) is notable to be taken up by any of the current models\n",
      "Warning: The added metabolite (nh4_e) is notable to be taken up by any of the current models\n",
      "Warning: The added metabolite (pi_e) is notable to be taken up by any of the current models\n",
      "Warning: The added metabolite (h2o_e) is notable to be taken up by any of the current models\n",
      "Warning: The added metabolite (h_e) is notable to be taken up by any of the current models\n",
      "\n",
      "Running COMETS simulation ...\n",
      "Done!\n",
      "   metabolite  cycle  x  y    conc_mmol\n",
      "0    glc__D_e      0  1  1     0.003733\n",
      "1       h2o_e      0  1  1  1000.041347\n",
      "2         h_e      0  1  1  1000.041966\n",
      "3       nh4_e      0  1  1   999.992562\n",
      "4        o2_e      0  1  1   999.966234\n",
      "5        pi_e      0  1  1   999.994982\n",
      "6       co2_e      1  1  1     0.010326\n",
      "7       h2o_e      1  1  1  1000.053739\n",
      "8         h_e      1  1  1  1000.047657\n",
      "9       nh4_e      1  1  1   999.991015\n",
      "10       o2_e      1  1  1   999.956236\n",
      "11       pi_e      1  1  1   999.993938\n",
      "{'co2_e': 0.010325734939, 'h2o_e': 1000.0537389, 'h_e': 1000.0476569, 'nh4_e': 999.99101469, 'o2_e': 999.95623601, 'pi_e': 999.99393812}\n",
      "Completed in 27.90 seconds\n"
     ]
    }
   ],
   "source": [
    "# initialize\n",
    "comets_process = Comets(comets_config)\n",
    "\n",
    "comets_exp = Engine(processes={'comets': comets_process},\n",
    "                    topology={\n",
    "                        'comets': {'Biomass': ('Biomass',),\n",
    "                                   'Metabolites': ('Metabolites',)}},\n",
    "                   initial_state = comets_initial_state)\n",
    "\n",
    "# make the experiment\n",
    "# comets_exp = process_in_experiment(\n",
    "#     comets_process, comets_sim_settings, comets_initial_state)\n",
    "\n",
    "# run\n",
    "comets_exp.update(10.0) # Same as the COMETS maxCycles"
   ]
  },
  {
   "cell_type": "code",
   "execution_count": 77,
   "metadata": {},
   "outputs": [
    {
     "name": "stdout",
     "output_type": "stream",
     "text": [
      "{ 'Biomass': {'ecoli_biomass': 0.0016528317598},\n",
      "  'Metabolites': { 'glc__D_e': 0.0037330799349,\n",
      "                   'h2o_e': 1000.0537389,\n",
      "                   'h_e': 1000.0476569,\n",
      "                   'nh4_e': 999.99101469,\n",
      "                   'o2_e': 999.95623601,\n",
      "                   'pi_e': 999.99393812},\n",
      "  'comets': ( <__main__.Comets object at 0x2b162e1cf2b0>,\n",
      "              {'Biomass': ('Biomass',), 'Metabolites': ('Metabolites',)})}\n"
     ]
    }
   ],
   "source": [
    "print(pf(comets_exp.state.get_value()))"
   ]
  },
  {
   "cell_type": "code",
   "execution_count": 78,
   "metadata": {},
   "outputs": [
    {
     "name": "stdout",
     "output_type": "stream",
     "text": [
      "{ 'Biomass': { 'ecoli_biomass': { '_default': 0.0,\n",
      "                                  '_emit': True,\n",
      "                                  '_updater': <function update_set at 0x2b1620c6fd30>,\n",
      "                                  '_value': 0.0016528317598}},\n",
      "  'Metabolites': { '_subschema': { '_default': 0.0,\n",
      "                                   '_emit': True,\n",
      "                                   '_updater': 'set'},\n",
      "                   'glc__D_e': { '_default': 0.0,\n",
      "                                 '_emit': True,\n",
      "                                 '_updater': <function update_set at 0x2b1620c6fd30>,\n",
      "                                 '_value': 0.0037330799349},\n",
      "                   'h2o_e': { '_default': 0.0,\n",
      "                              '_emit': True,\n",
      "                              '_updater': <function update_set at 0x2b1620c6fd30>,\n",
      "                              '_value': 1000.0537389},\n",
      "                   'h_e': { '_default': 0.0,\n",
      "                            '_emit': True,\n",
      "                            '_updater': <function update_set at 0x2b1620c6fd30>,\n",
      "                            '_value': 1000.0476569},\n",
      "                   'nh4_e': { '_default': 0.0,\n",
      "                              '_emit': True,\n",
      "                              '_updater': <function update_set at 0x2b1620c6fd30>,\n",
      "                              '_value': 999.99101469},\n",
      "                   'o2_e': { '_default': 0.0,\n",
      "                             '_emit': True,\n",
      "                             '_updater': <function update_set at 0x2b1620c6fd30>,\n",
      "                             '_value': 999.95623601},\n",
      "                   'pi_e': { '_default': 0.0,\n",
      "                             '_emit': True,\n",
      "                             '_updater': <function update_set at 0x2b1620c6fd30>,\n",
      "                             '_value': 999.99393812}},\n",
      "  'comets': { '_default': None,\n",
      "              '_updater': <function update_set at 0x2b1620c6fd30>,\n",
      "              '_value': <__main__.Comets object at 0x2b162e1cf2b0>}}\n"
     ]
    }
   ],
   "source": [
    "print(pf(comets_exp.state.get_config()))"
   ]
  },
  {
   "cell_type": "code",
   "execution_count": 79,
   "metadata": {},
   "outputs": [],
   "source": [
    "# retrieve the data as a timeseries\n",
    "comets_output = comets_exp.emitter.get_timeseries()"
   ]
  },
  {
   "cell_type": "code",
   "execution_count": 65,
   "metadata": {},
   "outputs": [
    {
     "data": {
      "text/plain": [
       "{0: {'Biomass': {'ecoli_biomass': 5e-06},\n",
       "  'Metabolites': {'glc__D_e': 0.011,\n",
       "   'o2_e': 1000,\n",
       "   'nh4_e': 1000,\n",
       "   'pi_e': 1000,\n",
       "   'h2o_e': 1000,\n",
       "   'h_e': 1000}},\n",
       " 1.0: {'Biomass': {'ecoli_biomass': 1.0553374271e-05},\n",
       "  'Metabolites': {'glc__D_e': 0.010907625965,\n",
       "   'o2_e': 999.9999075,\n",
       "   'nh4_e': 999.99996972,\n",
       "   'pi_e': 999.99997957,\n",
       "   'h2o_e': 1000.0000893,\n",
       "   'h_e': 1000.000296}},\n",
       " 2.0: {'Biomass': {'ecoli_biomass': 2.2274668631e-05},\n",
       "  'Metabolites': {'glc__D_e': 0.01071265666,\n",
       "   'o2_e': 999.99971226,\n",
       "   'nh4_e': 999.99990581,\n",
       "   'pi_e': 999.99993645,\n",
       "   'h2o_e': 1000.0002778,\n",
       "   'h_e': 1000.0009207}},\n",
       " 3.0: {'Biomass': {'ecoli_biomass': 4.7014094509e-05},\n",
       "  'Metabolites': {'glc__D_e': 0.010301151485,\n",
       "   'o2_e': 999.99930018,\n",
       "   'nh4_e': 999.99977091,\n",
       "   'pi_e': 999.99984544,\n",
       "   'h2o_e': 1000.0006758,\n",
       "   'h_e': 1000.0022391}},\n",
       " 4.0: {'Biomass': {'ecoli_biomass': 9.9228859654e-05},\n",
       "  'Metabolites': {'glc__D_e': 0.0094326553953,\n",
       "   'o2_e': 999.99843042,\n",
       "   'nh4_e': 999.99948619,\n",
       "   'pi_e': 999.99965336,\n",
       "   'h2o_e': 1000.0015158,\n",
       "   'h_e': 1000.0050216}},\n",
       " 5.0: {'Biomass': {'ecoli_biomass': 0.00020942638181},\n",
       "  'Metabolites': {'glc__D_e': 0.0075998360782,\n",
       "   'o2_e': 999.99659469,\n",
       "   'nh4_e': 999.9988853,\n",
       "   'pi_e': 999.99924798,\n",
       "   'h2o_e': 1000.0032892,\n",
       "   'h_e': 1000.010893}},\n",
       " 6.0: {'Biomass': {'ecoli_biomass': 0.00044195444039},\n",
       "  'Metabolites': {'glc__D_e': 0.0037330799349,\n",
       "   'o2_e': 999.9927203,\n",
       "   'nh4_e': 999.99761737,\n",
       "   'pi_e': 999.99839258,\n",
       "   'h2o_e': 1000.0070342,\n",
       "   'h_e': 1000.0232766}},\n",
       " 7.0: {'Biomass': {'ecoli_biomass': 0.00076319797664},\n",
       "  'Metabolites': {'glc__D_e': 0.0037330799349,\n",
       "   'o2_e': 999.98454414,\n",
       "   'nh4_e': 999.99586569,\n",
       "   'pi_e': 999.99721082,\n",
       "   'h2o_e': 1000.0179218,\n",
       "   'h_e': 1000.0298109}},\n",
       " 8.0: {'Biomass': {'ecoli_biomass': 0.0010727814383},\n",
       "  'Metabolites': {'glc__D_e': 0.0037330799349,\n",
       "   'o2_e': 999.97567805,\n",
       "   'nh4_e': 999.99417759,\n",
       "   'pi_e': 999.99607196,\n",
       "   'h2o_e': 1000.0294009,\n",
       "   'h_e': 1000.0360211}},\n",
       " 9.0: {'Biomass': {'ecoli_biomass': 0.0013691376504},\n",
       "  'Metabolites': {'glc__D_e': 0.0037330799349,\n",
       "   'o2_e': 999.96623377,\n",
       "   'nh4_e': 999.99256162,\n",
       "   'pi_e': 999.99498175,\n",
       "   'h2o_e': 1000.0413466,\n",
       "   'h_e': 1000.041966}},\n",
       " 10.0: {'Biomass': {'ecoli_biomass': 0.0016528317598},\n",
       "  'Metabolites': {'glc__D_e': 0.0037330799349,\n",
       "   'o2_e': 999.95623601,\n",
       "   'nh4_e': 999.99101469,\n",
       "   'pi_e': 999.99393812,\n",
       "   'h2o_e': 1000.0537389,\n",
       "   'h_e': 1000.0476569}}}"
      ]
     },
     "execution_count": 65,
     "metadata": {},
     "output_type": "execute_result"
    }
   ],
   "source": [
    "comets_exp.emitter.get_data()"
   ]
  },
  {
   "cell_type": "code",
   "execution_count": 80,
   "metadata": {},
   "outputs": [
    {
     "data": {
      "text/plain": [
       "{'Biomass': {'ecoli_biomass': [5e-06,\n",
       "   1.0553374271e-05,\n",
       "   2.2274668631e-05,\n",
       "   4.7014094509e-05,\n",
       "   9.9228859654e-05,\n",
       "   0.00020942638181,\n",
       "   0.00044195444039,\n",
       "   0.00076319797664,\n",
       "   0.0010727814383,\n",
       "   0.0013691376504,\n",
       "   0.0016528317598]},\n",
       " 'Metabolites': {'glc__D_e': [0.011,\n",
       "   0.010907625965,\n",
       "   0.01071265666,\n",
       "   0.010301151485,\n",
       "   0.0094326553953,\n",
       "   0.0075998360782,\n",
       "   0.0037330799349,\n",
       "   0.0037330799349,\n",
       "   0.0037330799349,\n",
       "   0.0037330799349,\n",
       "   0.0037330799349],\n",
       "  'o2_e': [1000,\n",
       "   999.9999075,\n",
       "   999.99971226,\n",
       "   999.99930018,\n",
       "   999.99843042,\n",
       "   999.99659469,\n",
       "   999.9927203,\n",
       "   999.98454414,\n",
       "   999.97567805,\n",
       "   999.96623377,\n",
       "   999.95623601],\n",
       "  'nh4_e': [1000,\n",
       "   999.99996972,\n",
       "   999.99990581,\n",
       "   999.99977091,\n",
       "   999.99948619,\n",
       "   999.9988853,\n",
       "   999.99761737,\n",
       "   999.99586569,\n",
       "   999.99417759,\n",
       "   999.99256162,\n",
       "   999.99101469],\n",
       "  'pi_e': [1000,\n",
       "   999.99997957,\n",
       "   999.99993645,\n",
       "   999.99984544,\n",
       "   999.99965336,\n",
       "   999.99924798,\n",
       "   999.99839258,\n",
       "   999.99721082,\n",
       "   999.99607196,\n",
       "   999.99498175,\n",
       "   999.99393812],\n",
       "  'h2o_e': [1000,\n",
       "   1000.0000893,\n",
       "   1000.0002778,\n",
       "   1000.0006758,\n",
       "   1000.0015158,\n",
       "   1000.0032892,\n",
       "   1000.0070342,\n",
       "   1000.0179218,\n",
       "   1000.0294009,\n",
       "   1000.0413466,\n",
       "   1000.0537389],\n",
       "  'h_e': [1000,\n",
       "   1000.000296,\n",
       "   1000.0009207,\n",
       "   1000.0022391,\n",
       "   1000.0050216,\n",
       "   1000.010893,\n",
       "   1000.0232766,\n",
       "   1000.0298109,\n",
       "   1000.0360211,\n",
       "   1000.041966,\n",
       "   1000.0476569]},\n",
       " 'time': [0, 1.0, 2.0, 3.0, 4.0, 5.0, 6.0, 7.0, 8.0, 9.0, 10.0]}"
      ]
     },
     "execution_count": 80,
     "metadata": {},
     "output_type": "execute_result"
    }
   ],
   "source": [
    "comets_output"
   ]
  },
  {
   "cell_type": "code",
   "execution_count": 66,
   "metadata": {},
   "outputs": [
    {
     "data": {
      "text/plain": [
       "6"
      ]
     },
     "execution_count": 66,
     "metadata": {},
     "output_type": "execute_result"
    }
   ],
   "source": [
    "len(comets_output['Metabolites'])"
   ]
  },
  {
   "cell_type": "code",
   "execution_count": 67,
   "metadata": {},
   "outputs": [
    {
     "data": {
      "text/plain": [
       "dict_keys(['glc__D_e', 'o2_e', 'nh4_e', 'pi_e', 'h2o_e', 'h_e'])"
      ]
     },
     "execution_count": 67,
     "metadata": {},
     "output_type": "execute_result"
    }
   ],
   "source": [
    "comets_output['Metabolites'].keys()"
   ]
  },
  {
   "cell_type": "code",
   "execution_count": 68,
   "metadata": {},
   "outputs": [
    {
     "data": {
      "text/plain": [
       "[<matplotlib.lines.Line2D at 0x2b162e9287c0>]"
      ]
     },
     "execution_count": 68,
     "metadata": {},
     "output_type": "execute_result"
    },
    {
     "data": {
      "image/png": "[encoded data removed]",
      "text/plain": [
       "<Figure size 432x288 with 1 Axes>"
      ]
     },
     "metadata": {
      "needs_background": "light"
     },
     "output_type": "display_data"
    }
   ],
   "source": [
    "# plot\n",
    "plt.plot(comets_output['time'], comets_output['Biomass']['ecoli_biomass'])"
   ]
  },
  {
   "cell_type": "code",
   "execution_count": 69,
   "metadata": {},
   "outputs": [
    {
     "data": {
      "image/png": "[encoded data removed]",
      "text/plain": [
       "<Figure size 432x288 with 1 Axes>"
      ]
     },
     "metadata": {
      "needs_background": "light"
     },
     "output_type": "display_data"
    }
   ],
   "source": [
    "plt.plot(comets_output['time'], comets_output['Metabolites']['glc__D_e'], label = \"glucose\")\n",
    "plt.legend()\n",
    "plt.show()"
   ]
  },
  {
   "cell_type": "code",
   "execution_count": null,
   "metadata": {},
   "outputs": [],
   "source": []
  }
 ],
 "metadata": {
  "kernelspec": {
   "display_name": "Python 3.8.9 64-bit",
   "language": "python",
   "name": "python3"
  },
  "language_info": {
   "codemirror_mode": {
    "name": "ipython",
    "version": 3
   },
   "file_extension": ".py",
   "mimetype": "text/x-python",
   "name": "python",
   "nbconvert_exporter": "python",
   "pygments_lexer": "ipython3",
   "version": "3.8.9"
  },
  "vscode": {
   "interpreter": {
    "hash": "31f2aee4e71d21fbe5cf8b01ff0e069b9275f58929596ceb00d14d90e3e16cd6"
   }
  }
 },
 "nbformat": 4,
 "nbformat_minor": 2
}
