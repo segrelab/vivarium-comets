{
 "cells": [
  {
   "cell_type": "markdown",
   "metadata": {},
   "source": [
    "# Scratch file for developing vivarium-comets"
   ]
  },
  {
   "cell_type": "markdown",
   "metadata": {},
   "source": [
    "## Run COMETS from COMETSpy for just one square"
   ]
  },
  {
   "cell_type": "code",
   "execution_count": 1,
   "metadata": {},
   "outputs": [],
   "source": [
    "import cometspy as c\n",
    "import cobra.test\n",
    "import matplotlib.pyplot as plt"
   ]
  },
  {
   "cell_type": "code",
   "execution_count": 2,
   "metadata": {},
   "outputs": [
    {
     "name": "stdout",
     "output_type": "stream",
     "text": [
      "0.22.1\n"
     ]
    }
   ],
   "source": [
    "# Check the cobra version\n",
    "print(cobra.__version__)"
   ]
  },
  {
   "cell_type": "markdown",
   "metadata": {},
   "source": [
    "### Create a layout for the simulation"
   ]
  },
  {
   "cell_type": "code",
   "execution_count": 3,
   "metadata": {},
   "outputs": [
    {
     "name": "stdout",
     "output_type": "stream",
     "text": [
      "building empty layout model\n",
      "models will need to be added with layout.add_model()\n",
      "Warning: The added metabolite (glc__D_e) is notable to be taken up by any of the current models\n",
      "Warning: The added metabolite (o2_e) is notable to be taken up by any of the current models\n",
      "Warning: The added metabolite (nh4_e) is notable to be taken up by any of the current models\n",
      "Warning: The added metabolite (pi_e) is notable to be taken up by any of the current models\n",
      "Warning: The added metabolite (h2o_e) is notable to be taken up by any of the current models\n",
      "Warning: The added metabolite (h_e) is notable to be taken up by any of the current models\n"
     ]
    }
   ],
   "source": [
    "# Create empty 1x1 layout\n",
    "test_tube = c.layout()\n",
    "\n",
    "# Add 11mM glucose\n",
    "test_tube.set_specific_metabolite('glc__D_e', 0.011)\n",
    "\n",
    "# Add infinite amount of oxygen\n",
    "test_tube.set_specific_metabolite('o2_e', 1000)\n",
    "\n",
    "# Add the rest of nutrients unlimited (ammonia, phosphate, water and protons)\n",
    "test_tube.set_specific_metabolite('nh4_e',1000);\n",
    "test_tube.set_specific_metabolite('pi_e',1000);\n",
    "test_tube.set_specific_metabolite('h2o_e',1000);\n",
    "test_tube.set_specific_metabolite('h_e',1000);"
   ]
  },
  {
   "cell_type": "markdown",
   "metadata": {},
   "source": [
    "### Load a model"
   ]
  },
  {
   "cell_type": "code",
   "execution_count": 4,
   "metadata": {},
   "outputs": [
    {
     "name": "stdout",
     "output_type": "stream",
     "text": [
      "Using license file /usr/local/gurobi/gurobi.lic\n",
      "Set parameter TokenServer to value sccsvc\n"
     ]
    }
   ],
   "source": [
    "# create the model using CobraPy functionality\n",
    "e_coli_cobra = cobra.test.create_test_model('textbook')\n",
    "# use the loaded model to build a comets model\n",
    "# Translate the cobra format into the comets format\n",
    "e_coli = c.model(e_coli_cobra)\n",
    "\n",
    "# remove the bounds from glucose import (will be set dynamically by COMETS)\n",
    "# The bounds will be over written by the Michaelis-Menten kinetics\n",
    "# By default the bounds are 0 and 1000, can cause problems\n",
    "e_coli.change_bounds('EX_glc__D_e', -1000, 1000)\n",
    "e_coli.change_bounds('EX_ac_e', -1000, 1000)\n",
    "\n",
    "# set the model's initial biomass\n",
    "# First two numbers are the x & y coordinates of the COMETS 2D grid\n",
    "# COMETS uses 0 indexing, so 0 0 is the first square\n",
    "e_coli.initial_pop = [0, 0, 5e-6]\n",
    "\n",
    "# add it to the test_tube\n",
    "test_tube.add_model(e_coli)"
   ]
  },
  {
   "cell_type": "markdown",
   "metadata": {},
   "source": [
    "### Set the simulation parameters"
   ]
  },
  {
   "cell_type": "code",
   "execution_count": 5,
   "metadata": {},
   "outputs": [],
   "source": [
    "# Set the parameters that are different from the default\n",
    "sim_params = c.params()\n",
    "\n",
    "# Parameters of the uptake reactions\n",
    "# Default values will be applied to all uptake reactions\n",
    "# You can set the parameters for each model, but here we just have one model so setting for all the models is the same\n",
    "sim_params.set_param('defaultVmax', 18.5)\n",
    "# sim_params.set_param('defaultKm', 0.000015)\n",
    "# Make Km much bigger, controls how \n",
    "sim_params.set_param('defaultKm', 0.000015)\n",
    "\n",
    "# How many time steps in total are we running\n",
    "sim_params.set_param('maxCycles', 1000)\n",
    "\n",
    "# How long is each step\n",
    "# Accuracy of the solution will depend on how big the time step is\n",
    "sim_params.set_param('timeStep', 0.01)\n",
    "\n",
    "# Size of the spatial box\n",
    "# Unit is in cm\n",
    "# Here we will have a volume of 1 mL\n",
    "sim_params.set_param('spaceWidth', 1)\n",
    "\n",
    "sim_params.set_param('maxSpaceBiomass', 10)\n",
    "\n",
    "# Don't bother doing FBA where the biomass is really small\n",
    "sim_params.set_param('minSpaceBiomass', 1e-11)\n",
    "\n",
    "# Write the media so we can see how the media changes over time\n",
    "sim_params.set_param('writeMediaLog', True)"
   ]
  },
  {
   "cell_type": "markdown",
   "metadata": {},
   "source": [
    "### Run the simulation"
   ]
  },
  {
   "cell_type": "code",
   "execution_count": 6,
   "metadata": {},
   "outputs": [],
   "source": [
    "# Define an experiment\n",
    "experiment = c.comets(test_tube, sim_params)"
   ]
  },
  {
   "cell_type": "code",
   "execution_count": 7,
   "metadata": {},
   "outputs": [
    {
     "name": "stdout",
     "output_type": "stream",
     "text": [
      "\n",
      "Running COMETS simulation ...\n",
      "Done!\n"
     ]
    }
   ],
   "source": [
    "experiment.run()"
   ]
  },
  {
   "cell_type": "markdown",
   "metadata": {},
   "source": [
    "### Plot the results"
   ]
  },
  {
   "cell_type": "markdown",
   "metadata": {},
   "source": [
    "#### Plot the biomass"
   ]
  },
  {
   "cell_type": "code",
   "execution_count": 8,
   "metadata": {},
   "outputs": [
    {
     "data": {
      "text/plain": [
       "5.0555337427e-06"
      ]
     },
     "execution_count": 8,
     "metadata": {},
     "output_type": "execute_result"
    }
   ],
   "source": [
    "experiment.total_biomass['e_coli_core'][1]"
   ]
  },
  {
   "cell_type": "code",
   "execution_count": 9,
   "metadata": {},
   "outputs": [
    {
     "data": {
      "text/plain": [
       "Text(0, 0.5, 'Biomass (gr.)')"
      ]
     },
     "execution_count": 9,
     "metadata": {},
     "output_type": "execute_result"
    },
    {
     "data": {
      "image/png": "[encoded data removed]",
      "text/plain": [
       "<Figure size 432x288 with 1 Axes>"
      ]
     },
     "metadata": {
      "needs_background": "light"
     },
     "output_type": "display_data"
    }
   ],
   "source": [
    "# Plot the biomass\n",
    "ax = experiment.total_biomass.plot(x = 'cycle')\n",
    "ax.set_ylabel(\"Biomass (gr.)\")"
   ]
  },
  {
   "cell_type": "markdown",
   "metadata": {},
   "source": [
    "#### Plot the metabolites"
   ]
  },
  {
   "cell_type": "code",
   "execution_count": 10,
   "metadata": {},
   "outputs": [
    {
     "data": {
      "text/plain": [
       "Text(0, 0.5, 'Concentration (mmol)')"
      ]
     },
     "execution_count": 10,
     "metadata": {},
     "output_type": "execute_result"
    },
    {
     "data": {
      "image/png": "[encoded data removed]",
      "text/plain": [
       "<Figure size 432x288 with 1 Axes>"
      ]
     },
     "metadata": {
      "needs_background": "light"
     },
     "output_type": "display_data"
    }
   ],
   "source": [
    "# Look the matbolites\n",
    "# Only look at things less than 900 so that you don't see the infinite things, only look at thigs that are secreted\n",
    "media = experiment.media.copy()\n",
    "media = media[media.conc_mmol<900]\n",
    "\n",
    "fig, ax = plt.subplots()\n",
    "media.groupby('metabolite').plot(x='cycle', ax =ax, y='conc_mmol')\n",
    "ax.legend(('acetate','ethanol', 'formate', 'glucose'))\n",
    "ax.set_ylabel(\"Concentration (mmol)\")"
   ]
  },
  {
   "cell_type": "markdown",
   "metadata": {},
   "source": [
    "## Pull out the results I need for that square"
   ]
  },
  {
   "cell_type": "markdown",
   "metadata": {},
   "source": [
    "I'll need:\n",
    "1. Biomass\n",
    "    * `experiment.total_biomass`\n",
    "    * How to break out by the model?\n",
    "2. Nutrients\n",
    "    * `experiment.media`\n",
    "    * Do I need to do .copy()\n",
    "3. Diffusing biomass\n",
    "    * Really don't know how to do this one"
   ]
  },
  {
   "cell_type": "markdown",
   "metadata": {},
   "source": [
    "## Make a Vivarium Process"
   ]
  },
  {
   "cell_type": "code",
   "execution_count": 11,
   "metadata": {},
   "outputs": [],
   "source": [
    "# Pip install to a specific location on the scc\n",
    "# !pip install --target=/projectnb/cometsfba/pythonlibs/python3.8/site-packages vivarium-core"
   ]
  },
  {
   "cell_type": "code",
   "execution_count": 12,
   "metadata": {},
   "outputs": [],
   "source": [
    "import matplotlib"
   ]
  },
  {
   "cell_type": "code",
   "execution_count": null,
   "metadata": {},
   "outputs": [],
   "source": []
  },
  {
   "cell_type": "code",
   "execution_count": 13,
   "metadata": {},
   "outputs": [],
   "source": [
    "# Process, Deriver, and Composer base classes\n",
    "from vivarium.core.process import Process, Deriver\n",
    "from vivarium.core.composer import Composer\n",
    "from vivarium.core.registry import process_registry"
   ]
  },
  {
   "cell_type": "code",
   "execution_count": 51,
   "metadata": {},
   "outputs": [],
   "source": [
    "# helper functions for composition\n",
    "from vivarium.core.composition import (\n",
    "    simulate_process,\n",
    "    process_in_experiment,\n",
    "    composer_in_experiment,\n",
    "    composite_in_experiment)\n",
    "\n",
    "# other vivarium imports\n",
    "from vivarium.core.engine import Engine, pf\n",
    "from vivarium.library.units import units\n",
    "\n",
    "# plotting functions\n",
    "from vivarium.plots.simulation_output import (\n",
    "    plot_simulation_output, plot_variables)\n",
    "from vivarium.plots.simulation_output import _save_fig_to_dir as save_fig_to_dir\n",
    "from vivarium.plots.agents_multigen import plot_agents_multigen\n",
    "from vivarium.plots.topology import plot_topology\n"
   ]
  },
  {
   "cell_type": "code",
   "execution_count": 36,
   "metadata": {},
   "outputs": [],
   "source": [
    "class Comets(Process):\n",
    "    \n",
    "    defaults = {\n",
    "        'dimensions': [1,1]\n",
    "    }\n",
    "\n",
    "    def __init__(self, parameters=None):\n",
    "        super().__init__(parameters)\n",
    "        dimensions = self.parameters['dimensions']\n",
    "        \n",
    "    def ports_schema(self):\n",
    "        return {\n",
    "            # Declare a port for biomass\n",
    "            'Biomass': {\n",
    "                # Define the variable that goees through that port\n",
    "                'ecoli_biomass': {\n",
    "                    # Define how that variable operates\n",
    "                    '_default': 0.0,\n",
    "                    '_updater': 'set', # Use set, since we are not returning the delta but the new value\n",
    "                    '_emit': True}},\n",
    "            \n",
    "            # Use dictionary comprehension to declare schema for all the metabolites\n",
    "            'Metabolites': {\n",
    "#                 'metabolite_dictionary': {\n",
    "                '*': {\n",
    "                    '_default': 0.0,\n",
    "                    '_updater': 'set',\n",
    "                    '_emit': True\n",
    "                }\n",
    "            }\n",
    "        }\n",
    "    \n",
    "    def next_update(self, timestep, states):\n",
    "        # Parse variables from states\n",
    "        biomass = states['Biomass']['ecoli_biomass']\n",
    "        metabolites = states['Metabolites']\n",
    "        \n",
    "        # Run COMETS (need to use timestep somewhere in here)\n",
    "        ##################################################################\n",
    "        # Create empty 1x1 layout\n",
    "        test_tube = c.layout()\n",
    "        \n",
    "        # Add all the metabolites\n",
    "        # Kludge- loop through all the metabolites and set specific\n",
    "        for met_id in metabolites:\n",
    "            test_tube.set_specific_metabolite(met_id, metabolites[met_id])\n",
    "        \n",
    "        # Hard code loading the E coli model\n",
    "        e_coli_cobra = cobra.test.create_test_model('textbook')\n",
    "        # Translate the cobra format into the comets format\n",
    "        e_coli = c.model(e_coli_cobra)\n",
    "\n",
    "        # remove the bounds from glucose import (will be set dynamically by COMETS)\n",
    "        # The bounds will be over written by the Michaelis-Menten kinetics\n",
    "        # By default the bounds are 0 and 1000, can cause problems\n",
    "        e_coli.change_bounds('EX_glc__D_e', -1000, 1000)\n",
    "        e_coli.change_bounds('EX_ac_e', -1000, 1000)\n",
    "        \n",
    "        # set the model's initial biomass\n",
    "        # First two numbers are the x & y coordinates of the COMETS 2D grid\n",
    "        # COMETS uses 0 indexing, so 0 0 is the first square\n",
    "        e_coli.initial_pop = [0, 0, biomass]\n",
    "\n",
    "        # add it to the test_tube\n",
    "        test_tube.add_model(e_coli)\n",
    "        \n",
    "        # Hardcode the simulation parameters\n",
    "        sim_params = c.params()\n",
    "        sim_params.set_param('defaultVmax', 18.5)\n",
    "        sim_params.set_param('defaultKm', 0.000015)\n",
    "        sim_params.set_param('maxCycles', 1)\n",
    "        sim_params.set_param('timeStep', timestep)\n",
    "        sim_params.set_param('spaceWidth', 1)\n",
    "        sim_params.set_param('maxSpaceBiomass', 10)\n",
    "        sim_params.set_param('minSpaceBiomass', 1e-11)\n",
    "        sim_params.set_param('writeMediaLog', True)\n",
    "\n",
    "        # Define an experiment\n",
    "        experiment = c.comets(test_tube, sim_params)\n",
    "    \n",
    "        # Run the simulation\n",
    "        experiment.run()\n",
    "        ##################################################################\n",
    "        \n",
    "        # Get the next biomass and metabolites from the COMETS run\n",
    "        next_biomass = experiment.total_biomass['e_coli_core'][1]\n",
    "        next_metabolite = experiment.media.copy()\n",
    "        print(next_metabolite)\n",
    "        \n",
    "        return {\n",
    "            'Biomass': {\n",
    "                'ecoli_biomass': next_biomass\n",
    "            },\n",
    "            'Metabolites': next_metabolite\n",
    "        }"
   ]
  },
  {
   "cell_type": "markdown",
   "metadata": {},
   "source": [
    "## Run the Vivarium Process"
   ]
  },
  {
   "cell_type": "code",
   "execution_count": 24,
   "metadata": {},
   "outputs": [],
   "source": [
    "comets_config = {'time_step': .1, 'dimensions': [1,1]}\n",
    "comets_sim_settings = {\n",
    "    'experiment_id': 'foo'}\n",
    "comets_initial_state = {\n",
    "    'Biomass': {'ecoli_biomass': 0.000005},\n",
    "    'Metabolites': {'glc__D_e': 0.011,\n",
    "                    'o2_e': 1000,\n",
    "                    'nh4_e': 1000,\n",
    "                    'pi_e': 1000,\n",
    "                    'h2o_e': 1000,\n",
    "                    'h_e': 1000\n",
    "                   }\n",
    "}"
   ]
  },
  {
   "cell_type": "code",
   "execution_count": 46,
   "metadata": {},
   "outputs": [
    {
     "name": "stdout",
     "output_type": "stream",
     "text": [
      "\n",
      "Simulation ID: adcb6d74-40de-11ed-8986-7cd30ad26602\n",
      "Created: 09/30/2022 at 12:41:06\n",
      "building empty layout model\n",
      "models will need to be added with layout.add_model()\n",
      "Warning: The added metabolite (glc__D_e) is notable to be taken up by any of the current models\n",
      "Warning: The added metabolite (o2_e) is notable to be taken up by any of the current models\n",
      "Warning: The added metabolite (nh4_e) is notable to be taken up by any of the current models\n",
      "Warning: The added metabolite (pi_e) is notable to be taken up by any of the current models\n",
      "Warning: The added metabolite (h2o_e) is notable to be taken up by any of the current models\n",
      "Warning: The added metabolite (h_e) is notable to be taken up by any of the current models\n",
      "\n",
      "Running COMETS simulation ...\n",
      "Done!\n",
      "  metabolite  cycle  x  y  conc_mmol\n",
      "0   glc__D_e      0  1  1      0.011\n",
      "1      h2o_e      0  1  1   1000.000\n",
      "2        h_e      0  1  1   1000.000\n",
      "3      nh4_e      0  1  1   1000.000\n",
      "4       o2_e      0  1  1   1000.000\n",
      "5       pi_e      0  1  1   1000.000\n",
      "building empty layout model\n",
      "models will need to be added with layout.add_model()\n",
      "Warning: The added metabolite (glc__D_e) is notable to be taken up by any of the current models\n",
      "Warning: The added metabolite (o2_e) is notable to be taken up by any of the current models\n",
      "Warning: The added metabolite (nh4_e) is notable to be taken up by any of the current models\n",
      "Warning: The added metabolite (pi_e) is notable to be taken up by any of the current models\n",
      "Warning: The added metabolite (h2o_e) is notable to be taken up by any of the current models\n",
      "Warning: The added metabolite (h_e) is notable to be taken up by any of the current models\n",
      "\n",
      "Running COMETS simulation ...\n",
      "Done!\n",
      "  metabolite  cycle  x  y  conc_mmol\n",
      "0   glc__D_e      0  1  1      0.011\n",
      "1      h2o_e      0  1  1   1000.000\n",
      "2        h_e      0  1  1   1000.000\n",
      "3      nh4_e      0  1  1   1000.000\n",
      "4       o2_e      0  1  1   1000.000\n",
      "5       pi_e      0  1  1   1000.000\n",
      "building empty layout model\n",
      "models will need to be added with layout.add_model()\n",
      "Warning: The added metabolite (glc__D_e) is notable to be taken up by any of the current models\n",
      "Warning: The added metabolite (o2_e) is notable to be taken up by any of the current models\n",
      "Warning: The added metabolite (nh4_e) is notable to be taken up by any of the current models\n",
      "Warning: The added metabolite (pi_e) is notable to be taken up by any of the current models\n",
      "Warning: The added metabolite (h2o_e) is notable to be taken up by any of the current models\n",
      "Warning: The added metabolite (h_e) is notable to be taken up by any of the current models\n",
      "\n",
      "Running COMETS simulation ...\n",
      "Done!\n",
      "  metabolite  cycle  x  y  conc_mmol\n",
      "0   glc__D_e      0  1  1      0.011\n",
      "1      h2o_e      0  1  1   1000.000\n",
      "2        h_e      0  1  1   1000.000\n",
      "3      nh4_e      0  1  1   1000.000\n",
      "4       o2_e      0  1  1   1000.000\n",
      "5       pi_e      0  1  1   1000.000\n",
      "building empty layout model\n",
      "models will need to be added with layout.add_model()\n",
      "Warning: The added metabolite (glc__D_e) is notable to be taken up by any of the current models\n",
      "Warning: The added metabolite (o2_e) is notable to be taken up by any of the current models\n",
      "Warning: The added metabolite (nh4_e) is notable to be taken up by any of the current models\n",
      "Warning: The added metabolite (pi_e) is notable to be taken up by any of the current models\n",
      "Warning: The added metabolite (h2o_e) is notable to be taken up by any of the current models\n",
      "Warning: The added metabolite (h_e) is notable to be taken up by any of the current models\n",
      "\n",
      "Running COMETS simulation ...\n",
      "Done!\n",
      "  metabolite  cycle  x  y  conc_mmol\n",
      "0   glc__D_e      0  1  1      0.011\n",
      "1      h2o_e      0  1  1   1000.000\n",
      "2        h_e      0  1  1   1000.000\n",
      "3      nh4_e      0  1  1   1000.000\n",
      "4       o2_e      0  1  1   1000.000\n",
      "5       pi_e      0  1  1   1000.000\n",
      "building empty layout model\n",
      "models will need to be added with layout.add_model()\n",
      "Warning: The added metabolite (glc__D_e) is notable to be taken up by any of the current models\n",
      "Warning: The added metabolite (o2_e) is notable to be taken up by any of the current models\n",
      "Warning: The added metabolite (nh4_e) is notable to be taken up by any of the current models\n",
      "Warning: The added metabolite (pi_e) is notable to be taken up by any of the current models\n",
      "Warning: The added metabolite (h2o_e) is notable to be taken up by any of the current models\n",
      "Warning: The added metabolite (h_e) is notable to be taken up by any of the current models\n",
      "\n",
      "Running COMETS simulation ...\n",
      "Done!\n",
      "  metabolite  cycle  x  y  conc_mmol\n",
      "0   glc__D_e      0  1  1      0.011\n",
      "1      h2o_e      0  1  1   1000.000\n",
      "2        h_e      0  1  1   1000.000\n",
      "3      nh4_e      0  1  1   1000.000\n",
      "4       o2_e      0  1  1   1000.000\n",
      "5       pi_e      0  1  1   1000.000\n",
      "building empty layout model\n",
      "models will need to be added with layout.add_model()\n",
      "Warning: The added metabolite (glc__D_e) is notable to be taken up by any of the current models\n",
      "Warning: The added metabolite (o2_e) is notable to be taken up by any of the current models\n",
      "Warning: The added metabolite (nh4_e) is notable to be taken up by any of the current models\n",
      "Warning: The added metabolite (pi_e) is notable to be taken up by any of the current models\n",
      "Warning: The added metabolite (h2o_e) is notable to be taken up by any of the current models\n",
      "Warning: The added metabolite (h_e) is notable to be taken up by any of the current models\n",
      "\n",
      "Running COMETS simulation ...\n",
      "Done!\n",
      "  metabolite  cycle  x  y  conc_mmol\n",
      "0   glc__D_e      0  1  1      0.011\n",
      "1      h2o_e      0  1  1   1000.000\n",
      "2        h_e      0  1  1   1000.000\n",
      "3      nh4_e      0  1  1   1000.000\n",
      "4       o2_e      0  1  1   1000.000\n",
      "5       pi_e      0  1  1   1000.000\n",
      "building empty layout model\n",
      "models will need to be added with layout.add_model()\n",
      "Warning: The added metabolite (glc__D_e) is notable to be taken up by any of the current models\n",
      "Warning: The added metabolite (o2_e) is notable to be taken up by any of the current models\n",
      "Warning: The added metabolite (nh4_e) is notable to be taken up by any of the current models\n",
      "Warning: The added metabolite (pi_e) is notable to be taken up by any of the current models\n",
      "Warning: The added metabolite (h2o_e) is notable to be taken up by any of the current models\n",
      "Warning: The added metabolite (h_e) is notable to be taken up by any of the current models\n",
      "\n",
      "Running COMETS simulation ...\n",
      "Done!\n",
      "  metabolite  cycle  x  y  conc_mmol\n",
      "0   glc__D_e      0  1  1      0.011\n",
      "1      h2o_e      0  1  1   1000.000\n",
      "2        h_e      0  1  1   1000.000\n",
      "3      nh4_e      0  1  1   1000.000\n",
      "4       o2_e      0  1  1   1000.000\n",
      "5       pi_e      0  1  1   1000.000\n",
      "building empty layout model\n",
      "models will need to be added with layout.add_model()\n",
      "Warning: The added metabolite (glc__D_e) is notable to be taken up by any of the current models\n",
      "Warning: The added metabolite (o2_e) is notable to be taken up by any of the current models\n",
      "Warning: The added metabolite (nh4_e) is notable to be taken up by any of the current models\n",
      "Warning: The added metabolite (pi_e) is notable to be taken up by any of the current models\n",
      "Warning: The added metabolite (h2o_e) is notable to be taken up by any of the current models\n",
      "Warning: The added metabolite (h_e) is notable to be taken up by any of the current models\n",
      "\n",
      "Running COMETS simulation ...\n",
      "Done!\n",
      "  metabolite  cycle  x  y  conc_mmol\n",
      "0   glc__D_e      0  1  1      0.011\n",
      "1      h2o_e      0  1  1   1000.000\n",
      "2        h_e      0  1  1   1000.000\n",
      "3      nh4_e      0  1  1   1000.000\n",
      "4       o2_e      0  1  1   1000.000\n",
      "5       pi_e      0  1  1   1000.000\n",
      "building empty layout model\n",
      "models will need to be added with layout.add_model()\n",
      "Warning: The added metabolite (glc__D_e) is notable to be taken up by any of the current models\n",
      "Warning: The added metabolite (o2_e) is notable to be taken up by any of the current models\n",
      "Warning: The added metabolite (nh4_e) is notable to be taken up by any of the current models\n",
      "Warning: The added metabolite (pi_e) is notable to be taken up by any of the current models\n",
      "Warning: The added metabolite (h2o_e) is notable to be taken up by any of the current models\n",
      "Warning: The added metabolite (h_e) is notable to be taken up by any of the current models\n"
     ]
    },
    {
     "name": "stdout",
     "output_type": "stream",
     "text": [
      "\n",
      "Running COMETS simulation ...\n",
      "Done!\n",
      "  metabolite  cycle  x  y  conc_mmol\n",
      "0   glc__D_e      0  1  1      0.011\n",
      "1      h2o_e      0  1  1   1000.000\n",
      "2        h_e      0  1  1   1000.000\n",
      "3      nh4_e      0  1  1   1000.000\n",
      "4       o2_e      0  1  1   1000.000\n",
      "5       pi_e      0  1  1   1000.000\n",
      "building empty layout model\n",
      "models will need to be added with layout.add_model()\n",
      "Warning: The added metabolite (glc__D_e) is notable to be taken up by any of the current models\n",
      "Warning: The added metabolite (o2_e) is notable to be taken up by any of the current models\n",
      "Warning: The added metabolite (nh4_e) is notable to be taken up by any of the current models\n",
      "Warning: The added metabolite (pi_e) is notable to be taken up by any of the current models\n",
      "Warning: The added metabolite (h2o_e) is notable to be taken up by any of the current models\n",
      "Warning: The added metabolite (h_e) is notable to be taken up by any of the current models\n",
      "\n",
      "Running COMETS simulation ...\n",
      "Done!\n",
      "  metabolite  cycle  x  y  conc_mmol\n",
      "0   glc__D_e      0  1  1      0.011\n",
      "1      h2o_e      0  1  1   1000.000\n",
      "2        h_e      0  1  1   1000.000\n",
      "3      nh4_e      0  1  1   1000.000\n",
      "4       o2_e      0  1  1   1000.000\n",
      "5       pi_e      0  1  1   1000.000\n",
      "building empty layout model\n",
      "models will need to be added with layout.add_model()\n",
      "Warning: The added metabolite (glc__D_e) is notable to be taken up by any of the current models\n",
      "Warning: The added metabolite (o2_e) is notable to be taken up by any of the current models\n",
      "Warning: The added metabolite (nh4_e) is notable to be taken up by any of the current models\n",
      "Warning: The added metabolite (pi_e) is notable to be taken up by any of the current models\n",
      "Warning: The added metabolite (h2o_e) is notable to be taken up by any of the current models\n",
      "Warning: The added metabolite (h_e) is notable to be taken up by any of the current models\n",
      "\n",
      "Running COMETS simulation ...\n",
      "Done!\n",
      "  metabolite  cycle  x  y  conc_mmol\n",
      "0   glc__D_e      0  1  1      0.011\n",
      "1      h2o_e      0  1  1   1000.000\n",
      "2        h_e      0  1  1   1000.000\n",
      "3      nh4_e      0  1  1   1000.000\n",
      "4       o2_e      0  1  1   1000.000\n",
      "5       pi_e      0  1  1   1000.000\n",
      "Completed in 32.35 seconds\n"
     ]
    }
   ],
   "source": [
    "# initialize\n",
    "comets_process = Comets(comets_config)\n",
    "\n",
    "comets_exp = Engine(processes={'comets': comets_process},\n",
    "                    topology={\n",
    "                        'comets': {'Biomass': ('Biomass',),\n",
    "                                   'Metabolites': ('Metabolites',)}},\n",
    "                   initial_state = comets_initial_state)\n",
    "\n",
    "# make the experiment\n",
    "# comets_exp = process_in_experiment(\n",
    "#     comets_process, comets_sim_settings, comets_initial_state)\n",
    "\n",
    "# run\n",
    "comets_exp.update(1.0) # Same as the COMETS maxCycles"
   ]
  },
  {
   "cell_type": "code",
   "execution_count": 52,
   "metadata": {},
   "outputs": [
    {
     "name": "stdout",
     "output_type": "stream",
     "text": [
      "{ 'Biomass': {'ecoli_biomass': 1.5926297627e-05},\n",
      "  'Metabolites': { 'glc__D_e': 0.011,\n",
      "                   'h2o_e': 1000,\n",
      "                   'h_e': 1000,\n",
      "                   'nh4_e': 1000,\n",
      "                   'o2_e': 1000,\n",
      "                   'pi_e': 1000},\n",
      "  'comets': ( <__main__.Comets object at 0x2b4c8ee55430>,\n",
      "              {'Biomass': ('Biomass',), 'Metabolites': ('Metabolites',)})}\n"
     ]
    }
   ],
   "source": [
    "print(pf(comets_exp.state.get_value()))"
   ]
  },
  {
   "cell_type": "code",
   "execution_count": 53,
   "metadata": {},
   "outputs": [
    {
     "name": "stdout",
     "output_type": "stream",
     "text": [
      "{ 'Biomass': { 'ecoli_biomass': { '_default': 0.0,\n",
      "                                  '_emit': True,\n",
      "                                  '_updater': <function update_set at 0x2b4c8ba9cca0>,\n",
      "                                  '_value': 1.5926297627e-05}},\n",
      "  'Metabolites': { '_subschema': { '_default': 0.0,\n",
      "                                   '_emit': True,\n",
      "                                   '_updater': 'set'},\n",
      "                   'glc__D_e': { '_default': 0.0,\n",
      "                                 '_emit': True,\n",
      "                                 '_updater': <function update_set at 0x2b4c8ba9cca0>,\n",
      "                                 '_value': 0.011},\n",
      "                   'h2o_e': { '_default': 0.0,\n",
      "                              '_emit': True,\n",
      "                              '_updater': <function update_set at 0x2b4c8ba9cca0>,\n",
      "                              '_value': 1000},\n",
      "                   'h_e': { '_default': 0.0,\n",
      "                            '_emit': True,\n",
      "                            '_updater': <function update_set at 0x2b4c8ba9cca0>,\n",
      "                            '_value': 1000},\n",
      "                   'nh4_e': { '_default': 0.0,\n",
      "                              '_emit': True,\n",
      "                              '_updater': <function update_set at 0x2b4c8ba9cca0>,\n",
      "                              '_value': 1000},\n",
      "                   'o2_e': { '_default': 0.0,\n",
      "                             '_emit': True,\n",
      "                             '_updater': <function update_set at 0x2b4c8ba9cca0>,\n",
      "                             '_value': 1000},\n",
      "                   'pi_e': { '_default': 0.0,\n",
      "                             '_emit': True,\n",
      "                             '_updater': <function update_set at 0x2b4c8ba9cca0>,\n",
      "                             '_value': 1000}},\n",
      "  'comets': { '_default': None,\n",
      "              '_updater': <function update_set at 0x2b4c8ba9cca0>,\n",
      "              '_value': <__main__.Comets object at 0x2b4c8ee55430>}}\n"
     ]
    }
   ],
   "source": [
    "print(pf(comets_exp.state.get_config()))"
   ]
  },
  {
   "cell_type": "code",
   "execution_count": 47,
   "metadata": {},
   "outputs": [],
   "source": [
    "# retrieve the data as a timeseries\n",
    "comets_output = comets_exp.emitter.get_timeseries()"
   ]
  },
  {
   "cell_type": "code",
   "execution_count": 54,
   "metadata": {},
   "outputs": [
    {
     "data": {
      "text/plain": [
       "{0: {'Biomass': {'ecoli_biomass': 5e-06},\n",
       "  'Metabolites': {'glc__D_e': 0.011,\n",
       "   'o2_e': 1000,\n",
       "   'nh4_e': 1000,\n",
       "   'pi_e': 1000,\n",
       "   'h2o_e': 1000,\n",
       "   'h_e': 1000}},\n",
       " 0.1: {'Biomass': {'ecoli_biomass': 5.5553374271e-06},\n",
       "  'Metabolites': {'glc__D_e': 0.011,\n",
       "   'o2_e': 1000,\n",
       "   'nh4_e': 1000,\n",
       "   'pi_e': 1000,\n",
       "   'h2o_e': 1000,\n",
       "   'h_e': 1000}},\n",
       " 0.2: {'Biomass': {'ecoli_biomass': 6.1723547858e-06},\n",
       "  'Metabolites': {'glc__D_e': 0.011,\n",
       "   'o2_e': 1000,\n",
       "   'nh4_e': 1000,\n",
       "   'pi_e': 1000,\n",
       "   'h2o_e': 1000,\n",
       "   'h_e': 1000}},\n",
       " 0.30000000000000004: {'Biomass': {'ecoli_biomass': 6.8579027109e-06},\n",
       "  'Metabolites': {'glc__D_e': 0.011,\n",
       "   'o2_e': 1000,\n",
       "   'nh4_e': 1000,\n",
       "   'pi_e': 1000,\n",
       "   'h2o_e': 1000,\n",
       "   'h_e': 1000}},\n",
       " 0.4: {'Biomass': {'ecoli_biomass': 7.6195927202e-06},\n",
       "  'Metabolites': {'glc__D_e': 0.011,\n",
       "   'o2_e': 1000,\n",
       "   'nh4_e': 1000,\n",
       "   'pi_e': 1000,\n",
       "   'h2o_e': 1000,\n",
       "   'h_e': 1000}},\n",
       " 0.5: {'Biomass': {'ecoli_biomass': 8.4658817235e-06},\n",
       "  'Metabolites': {'glc__D_e': 0.011,\n",
       "   'o2_e': 1000,\n",
       "   'nh4_e': 1000,\n",
       "   'pi_e': 1000,\n",
       "   'h2o_e': 1000,\n",
       "   'h_e': 1000}},\n",
       " 0.6: {'Biomass': {'ecoli_biomass': 9.4061659183e-06},\n",
       "  'Metabolites': {'glc__D_e': 0.011,\n",
       "   'o2_e': 1000,\n",
       "   'nh4_e': 1000,\n",
       "   'pi_e': 1000,\n",
       "   'h2o_e': 1000,\n",
       "   'h_e': 1000}},\n",
       " 0.7: {'Biomass': {'ecoli_biomass': 1.0450885114e-05},\n",
       "  'Metabolites': {'glc__D_e': 0.011,\n",
       "   'o2_e': 1000,\n",
       "   'nh4_e': 1000,\n",
       "   'pi_e': 1000,\n",
       "   'h2o_e': 1000,\n",
       "   'h_e': 1000}},\n",
       " 0.7999999999999999: {'Biomass': {'ecoli_biomass': 1.1611638644e-05},\n",
       "  'Metabolites': {'glc__D_e': 0.011,\n",
       "   'o2_e': 1000,\n",
       "   'nh4_e': 1000,\n",
       "   'pi_e': 1000,\n",
       "   'h2o_e': 1000,\n",
       "   'h_e': 1000}},\n",
       " 0.8999999999999999: {'Biomass': {'ecoli_biomass': 1.290131415e-05},\n",
       "  'Metabolites': {'glc__D_e': 0.011,\n",
       "   'o2_e': 1000,\n",
       "   'nh4_e': 1000,\n",
       "   'pi_e': 1000,\n",
       "   'h2o_e': 1000,\n",
       "   'h_e': 1000}},\n",
       " 0.9999999999999999: {'Biomass': {'ecoli_biomass': 1.4334230671e-05},\n",
       "  'Metabolites': {'glc__D_e': 0.011,\n",
       "   'o2_e': 1000,\n",
       "   'nh4_e': 1000,\n",
       "   'pi_e': 1000,\n",
       "   'h2o_e': 1000,\n",
       "   'h_e': 1000}},\n",
       " 1.0: {'Biomass': {'ecoli_biomass': 1.5926297627e-05},\n",
       "  'Metabolites': {'glc__D_e': 0.011,\n",
       "   'o2_e': 1000,\n",
       "   'nh4_e': 1000,\n",
       "   'pi_e': 1000,\n",
       "   'h2o_e': 1000,\n",
       "   'h_e': 1000}}}"
      ]
     },
     "execution_count": 54,
     "metadata": {},
     "output_type": "execute_result"
    }
   ],
   "source": [
    "comets_exp.emitter.get_data()"
   ]
  },
  {
   "cell_type": "code",
   "execution_count": 48,
   "metadata": {},
   "outputs": [
    {
     "data": {
      "text/plain": [
       "{'Biomass': {'ecoli_biomass': [5e-06,\n",
       "   5.5553374271e-06,\n",
       "   6.1723547858e-06,\n",
       "   6.8579027109e-06,\n",
       "   7.6195927202e-06,\n",
       "   8.4658817235e-06,\n",
       "   9.4061659183e-06,\n",
       "   1.0450885114e-05,\n",
       "   1.1611638644e-05,\n",
       "   1.290131415e-05,\n",
       "   1.4334230671e-05,\n",
       "   1.5926297627e-05]},\n",
       " 'Metabolites': {'glc__D_e': [0.011,\n",
       "   0.011,\n",
       "   0.011,\n",
       "   0.011,\n",
       "   0.011,\n",
       "   0.011,\n",
       "   0.011,\n",
       "   0.011,\n",
       "   0.011,\n",
       "   0.011,\n",
       "   0.011,\n",
       "   0.011],\n",
       "  'o2_e': [1000,\n",
       "   1000,\n",
       "   1000,\n",
       "   1000,\n",
       "   1000,\n",
       "   1000,\n",
       "   1000,\n",
       "   1000,\n",
       "   1000,\n",
       "   1000,\n",
       "   1000,\n",
       "   1000],\n",
       "  'nh4_e': [1000,\n",
       "   1000,\n",
       "   1000,\n",
       "   1000,\n",
       "   1000,\n",
       "   1000,\n",
       "   1000,\n",
       "   1000,\n",
       "   1000,\n",
       "   1000,\n",
       "   1000,\n",
       "   1000],\n",
       "  'pi_e': [1000,\n",
       "   1000,\n",
       "   1000,\n",
       "   1000,\n",
       "   1000,\n",
       "   1000,\n",
       "   1000,\n",
       "   1000,\n",
       "   1000,\n",
       "   1000,\n",
       "   1000,\n",
       "   1000],\n",
       "  'h2o_e': [1000,\n",
       "   1000,\n",
       "   1000,\n",
       "   1000,\n",
       "   1000,\n",
       "   1000,\n",
       "   1000,\n",
       "   1000,\n",
       "   1000,\n",
       "   1000,\n",
       "   1000,\n",
       "   1000],\n",
       "  'h_e': [1000,\n",
       "   1000,\n",
       "   1000,\n",
       "   1000,\n",
       "   1000,\n",
       "   1000,\n",
       "   1000,\n",
       "   1000,\n",
       "   1000,\n",
       "   1000,\n",
       "   1000,\n",
       "   1000]},\n",
       " 'time': [0,\n",
       "  0.1,\n",
       "  0.2,\n",
       "  0.30000000000000004,\n",
       "  0.4,\n",
       "  0.5,\n",
       "  0.6,\n",
       "  0.7,\n",
       "  0.7999999999999999,\n",
       "  0.8999999999999999,\n",
       "  0.9999999999999999,\n",
       "  1.0]}"
      ]
     },
     "execution_count": 48,
     "metadata": {},
     "output_type": "execute_result"
    }
   ],
   "source": [
    "comets_output"
   ]
  },
  {
   "cell_type": "code",
   "execution_count": 55,
   "metadata": {},
   "outputs": [
    {
     "data": {
      "text/plain": [
       "[<matplotlib.lines.Line2D at 0x2b4c8f7c2f70>]"
      ]
     },
     "execution_count": 55,
     "metadata": {},
     "output_type": "execute_result"
    },
    {
     "data": {
      "image/png": "[encoded data removed]",
      "text/plain": [
       "<Figure size 432x288 with 1 Axes>"
      ]
     },
     "metadata": {
      "needs_background": "light"
     },
     "output_type": "display_data"
    }
   ],
   "source": [
    "# plot\n",
    "plt.plot(comets_output['Biomass']['ecoli_biomass'], comets_output['time'])"
   ]
  },
  {
   "cell_type": "code",
   "execution_count": null,
   "metadata": {},
   "outputs": [],
   "source": []
  }
 ],
 "metadata": {
  "kernelspec": {
   "display_name": "Python 3",
   "language": "python",
   "name": "python3"
  },
  "language_info": {
   "codemirror_mode": {
    "name": "ipython",
    "version": 3
   },
   "file_extension": ".py",
   "mimetype": "text/x-python",
   "name": "python",
   "nbconvert_exporter": "python",
   "pygments_lexer": "ipython3",
   "version": "3.8.10"
  }
 },
 "nbformat": 4,
 "nbformat_minor": 2
}
